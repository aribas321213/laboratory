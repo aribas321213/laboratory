{
 "cells": [
  {
   "cell_type": "markdown",
   "metadata": {},
   "source": [
    "## Московский Авиационный Институт\n",
    "\n",
    "# Лабораторная работа по предмету Численные методы №3\n",
    "### \"Методы приближения функций. Численное дифференцирование и интегрирование\"\n",
    "**Преподаватель**: Филиппов Глеб Сергеевич \\\n",
    "**Судент**: Титеев Рамиль \\\n",
    "**Группа**: М8О-305Б-21\\\n",
    "Вариант 26\n"
   ]
  },
  {
   "cell_type": "markdown",
   "metadata": {},
   "source": [
    "Импортируем библиотеки, для дальнейшей работы с ними"
   ]
  },
  {
   "cell_type": "code",
   "execution_count": 55,
   "metadata": {},
   "outputs": [],
   "source": [
    "import numpy as np\n",
    "import matplotlib.pyplot as plt\n",
    "\n",
    "plt.style.use('ggplot')"
   ]
  },
  {
   "cell_type": "markdown",
   "metadata": {},
   "source": [
    "## Задание 3.1\n",
    "\n",
    "Используя таблицу значений $Y_i$ функции $y=f(x)$, вычисленных в точках  $X_i, \\; i= 0,\\dots,3$  построить интерполяционные многочлены Лагранжа и Ньютона, проходящие через точки $\\lbrace{ X_i, Y_i \\rbrace}$.  Вычислить значение погрешности интерполяции в точке $X^{*}$.\n",
    "\n",
    "Задано функция:\n",
    "$$y = \\frac{1}{x^2} + x^2$$\n",
    "\n",
    "Заданы точки:\\\n",
    "А) $X_i$ = $0.1, 0.5, 0.9, 1.3$;\\\n",
    "Б) $X_i$ = $0.1, 0.5, 1.1, 1.3$;\\\n",
    "$X^{*}$ = $0.8$."
   ]
  },
  {
   "cell_type": "markdown",
   "metadata": {},
   "source": [
    "1. Реализуем метод для Интерполяции Лагранжа:"
   ]
  },
  {
   "cell_type": "code",
   "execution_count": 56,
   "metadata": {},
   "outputs": [],
   "source": [
    "def lagrange_polynomial(x: list[float], y: list[float]):\n",
    "    \"\"\"\n",
    "    Интерполяционный многочлен Лагранжа\n",
    "\n",
    "    Args:\n",
    "        x (list[float]): список значений X\n",
    "        y (list[float]): список значений функции в точках X\n",
    "\n",
    "    Returns:\n",
    "        (x_value: float) -> float: lambda-функция полинома\n",
    "    \"\"\"\n",
    "    n = len(x)\n",
    "    coeffs = [0.0] * n\n",
    "\n",
    "    for i in range(n):\n",
    "        product = 1\n",
    "        for j in range(n):\n",
    "            if i != j:\n",
    "                product *= (x[i] - x[j])\n",
    "        coeffs[i] = y[i] / product\n",
    "\n",
    "    def polynomial(x_value: float):\n",
    "        result = 0.0\n",
    "        for i in range(n):\n",
    "            term = coeffs[i]\n",
    "            for j in range(n):\n",
    "                if i != j:\n",
    "                    term *= (x_value - x[j])\n",
    "            result += term\n",
    "        return result\n",
    "\n",
    "    return polynomial"
   ]
  },
  {
   "cell_type": "markdown",
   "metadata": {},
   "source": [
    "2. Реализуем метод для Интерполяции Ньютона:"
   ]
  },
  {
   "cell_type": "code",
   "execution_count": 57,
   "metadata": {},
   "outputs": [],
   "source": [
    "def newton_polynomial(x: list[float], y: list[float]):\n",
    "    \"\"\"\n",
    "    Интерполяционный многочлен Ньютона\n",
    "\n",
    "    Args:\n",
    "        x (list[float]): список значений X\n",
    "        y (list[float]): список значений функции в точках X\n",
    "\n",
    "    Returns:\n",
    "        (x_value: float) -> float: lambda-функция полинома\n",
    "    \"\"\"\n",
    "    \n",
    "    n = len(x)\n",
    "    coeffs = y.copy()\n",
    "\n",
    "    for i in range(1, n):\n",
    "        for j in range(n-1, i-1, -1):\n",
    "            coeffs[j] = (coeffs[j] - coeffs[j-1]) / (x[j] - x[j-i])\n",
    "\n",
    "    def polynomial(x_value: float):\n",
    "        result = coeffs[n-1]\n",
    "        for i in range(n-2, -1, -1):\n",
    "            result = result * (x_value - x[i]) + coeffs[i]\n",
    "        return result\n",
    "\n",
    "    return polynomial"
   ]
  },
  {
   "cell_type": "markdown",
   "metadata": {},
   "source": [
    "3. Напишем функцию, заданную вариантом"
   ]
  },
  {
   "cell_type": "code",
   "execution_count": 58,
   "metadata": {},
   "outputs": [],
   "source": [
    "def f(x):\n",
    "    return 1/(x**2) + x**2"
   ]
  },
  {
   "cell_type": "markdown",
   "metadata": {},
   "source": [
    "4. Сделаем расчеты для варианта"
   ]
  },
  {
   "cell_type": "code",
   "execution_count": 59,
   "metadata": {},
   "outputs": [
    {
     "name": "stdout",
     "output_type": "stream",
     "text": [
      "Значение функции в точке 0.8: 2.2024999999999997\n",
      "\n",
      "Вариант А\n",
      "Значение многочлена Лагранжа в точке 0.8: -1.1921279859741385\n",
      "Значение многочлена Ньютона в точке 0.8: -1.1921279859741247\n",
      "\n",
      "Вариант Б\n",
      "Значение многочлена Лагранжа в точке 0.8: -6.018516308865962\n",
      "Значение многочлена Ньютона в точке 0.8: -6.018516308865969\n"
     ]
    }
   ],
   "source": [
    "x_val = 0.8\n",
    "print(f\"Значение функции в точке {x_val}: {f(x_val)}\\n\")\n",
    "\n",
    "# Вариант А\n",
    "X_a = np.array([0.1, 0.5, 0.9, 1.3])\n",
    "\n",
    "lagrange_poly_a = lagrange_polynomial(X_a, f(X_a))\n",
    "newton_poly_a = newton_polynomial(X_a, f(X_a))\n",
    "lagrange_result_a = lagrange_poly_a(x_val)\n",
    "newton_result_a = newton_poly_a(x_val)\n",
    "\n",
    "print(\"Вариант А\")\n",
    "print(f\"Значение многочлена Лагранжа в точке {x_val}: {lagrange_result_a}\")\n",
    "print(f\"Значение многочлена Ньютона в точке {x_val}: {newton_result_a}\\n\")\n",
    "\n",
    "\n",
    "# Вариант Б\n",
    "X_b = np.array([0.1, 0.5, 1.1, 1.3])\n",
    "\n",
    "lagrange_poly_b = lagrange_polynomial(X_b, f(X_b))\n",
    "newton_poly_b = newton_polynomial(X_b, f(X_b))\n",
    "lagrange_result_b = lagrange_poly_b(x_val)\n",
    "newton_result_b = newton_poly_b(x_val)\n",
    "\n",
    "print(\"Вариант Б\")\n",
    "print(f\"Значение многочлена Лагранжа в точке {x_val}: {lagrange_result_b}\")\n",
    "print(f\"Значение многочлена Ньютона в точке {x_val}: {newton_result_b}\")"
   ]
  },
  {
   "cell_type": "markdown",
   "metadata": {},
   "source": [
    "5. Построим графики"
   ]
  },
  {
   "cell_type": "code",
   "execution_count": 60,
   "metadata": {},
   "outputs": [
    {
     "data": {
      "image/png": "[encoded data removed]",
      "text/plain": [
       "<Figure size 640x480 with 1 Axes>"
      ]
     },
     "metadata": {},
     "output_type": "display_data"
    }
   ],
   "source": [
    "t = np.linspace(X_a[0]-0.01, X_a[-1]+0.1, 1000)\n",
    "\n",
    "plt.title(\"Графики полученных результатов\")\n",
    "plt.grid(True)\n",
    "plt.xlabel(\"x\")\n",
    "plt.ylabel(\"y\")\n",
    "plt.plot(t, f(t), label=\"Функция\")\n",
    "\n",
    "plt.scatter(X_a, f(X_a), c=\"r\", label=\"Точки варианта A\")\n",
    "plt.scatter(X_b, f(X_b), c=\"g\", label=\"Точки варианта Б\")\n",
    "\n",
    "plt.plot(t, lagrange_poly_a(t), label=\"Лагранж А\")\n",
    "plt.plot(t, lagrange_poly_b(t), label=\"Лагранж Б\")\n",
    "\n",
    "plt.plot(t, newton_poly_a(t), label=\"Ньютон А\")\n",
    "plt.plot(t, newton_poly_b(t), label=\"Ньютон Б\")\n",
    "plt.legend()\n",
    "\n",
    "plt.vlines(0.8, -20, 120, linestyles='--', colors='black')\n",
    "plt.show()"
   ]
  },
  {
   "cell_type": "markdown",
   "metadata": {},
   "source": [
    "Расчитаем погрешности:"
   ]
  },
  {
   "cell_type": "code",
   "execution_count": 61,
   "metadata": {},
   "outputs": [
    {
     "name": "stdout",
     "output_type": "stream",
     "text": [
      "Вариант А\n",
      "Значение погрешности Лагранжа в точке 0.8: 3.394627985974138\n",
      "Значение многочлена Ньютона в точке 0.8: 3.3946279859741244\n",
      "\n",
      "Вариант Б\n",
      "Значение погрешности Лагранжа в точке 0.8: 8.221016308865963\n",
      "Значение многочлена Ньютона в точке 0.8: 8.22101630886597\n"
     ]
    }
   ],
   "source": [
    "print(\"Вариант А\")\n",
    "print(f\"Значение погрешности Лагранжа в точке {x_val}: \\\n",
    "{np.abs(lagrange_result_a-f(x_val))}\")\n",
    "print(f\"Значение многочлена Ньютона в точке {x_val}: \\\n",
    "{np.abs(newton_result_a-f(x_val))}\")\n",
    "print()\n",
    "print(\"Вариант Б\")\n",
    "print(f\"Значение погрешности Лагранжа в точке {x_val}: \\\n",
    "{np.abs(lagrange_result_b-f(x_val))}\")\n",
    "print(f\"Значение многочлена Ньютона в точке {x_val}: \\\n",
    "{np.abs(newton_result_b-f(x_val))}\")\n"
   ]
  },
  {
   "cell_type": "markdown",
   "metadata": {},
   "source": [
    "### Вывод 3.1\n",
    "Были построены интерполяционные полиномы по точкам $X_i, Y_i$ и вычислены погрешности в точке $X^{*}$. Построены графики интерполяции."
   ]
  },
  {
   "cell_type": "markdown",
   "metadata": {},
   "source": [
    "## Задание 3.2\n",
    "\n",
    "Построить кубический сплайн для функции, заданной в узлах интерполяции, предполагая, что сплайн имеет нулевую кривизну при $x=x_0$ и $x = x_4$. Вычислить значение функции в точке $x = X^{*}$.\n",
    "\n",
    "Заданы данные:\n",
    "\n",
    "$X^{*} = 0.8$\n",
    "\n",
    "| i | 0 | 1 | 2 | 3 | 4 |\n",
    "|---|---|---|---|---|---|\n",
    "| $x_i$ | 0.1  |  0.5 |  0.9 | 1.3  |  1.7 |\n",
    "| $f_i$ | 100.01  | 4.25 | 2.0446 | 2.2817  |  3.2360  |"
   ]
  },
  {
   "cell_type": "markdown",
   "metadata": {},
   "source": [
    "1. Реализуем класс Кубиского сплайна"
   ]
  },
  {
   "cell_type": "code",
   "execution_count": 62,
   "metadata": {},
   "outputs": [],
   "source": [
    "class Cubic_Spline:\n",
    "    def __init__(self, x, y):\n",
    "        self.x = np.array(x)\n",
    "        self.y = np.array(y)\n",
    "        self.n = len(x) - 1\n",
    "        self.h = np.diff(x)\n",
    "        self.a = y[:-1]\n",
    "        self.b = np.zeros(self.n)\n",
    "        self.c = np.zeros(self.n)\n",
    "        self.d = np.zeros(self.n)\n",
    "        self.compute_coefficients()\n",
    "\n",
    "    def compute_coefficients(self):\n",
    "        # Создание системы линейных уравнений для нахождения коэффициентов c\n",
    "        A = np.zeros((self.n + 1, self.n + 1))\n",
    "        b = np.zeros(self.n + 1)\n",
    "\n",
    "        A[0, 0] = 1\n",
    "        A[self.n, self.n] = 1\n",
    "\n",
    "        for i in range(1, self.n):\n",
    "            A[i, i-1] = self.h[i-1]\n",
    "            A[i, i] = 2 * (self.h[i-1] + self.h[i])\n",
    "            A[i, i+1] = self.h[i]\n",
    "            b[i] = 3 * ((self.y[i+1] - self.y[i]) / self.h[i] - \n",
    "                        (self.y[i] - self.y[i-1]) / self.h[i-1])\n",
    "\n",
    "        # Решение системы линейных уравнений\n",
    "        self.c = np.linalg.solve(A, b)\n",
    "\n",
    "        # Вычисление коэффициентов b и d\n",
    "        for i in range(self.n):\n",
    "            self.b[i] = ((self.y[i+1] - self.y[i]) / \n",
    "                         self.h[i]) - self.h[i] * (2*self.c[i] + self.c[i+1]) / 3\n",
    "            self.d[i] = (self.c[i+1] - self.c[i]) / (3 * self.h[i])\n",
    "\n",
    "    def __call__(self, z):\n",
    "        # Находим подходящий интервал для z\n",
    "        if z < self.x[0] or z > self.x[-1]:\n",
    "            raise ValueError(\"Значение вне диапазона интерполяции\")\n",
    "        i = np.searchsorted(self.x, z) - 1\n",
    "        if i == self.n:\n",
    "            i -= 1\n",
    "        dx = z - self.x[i]\n",
    "        # Вычисляем значение сплайна в точке z\n",
    "        return self.a[i] + self.b[i]*dx + self.c[i]*dx**2 + self.d[i]*dx**3\n",
    "\n"
   ]
  },
  {
   "cell_type": "code",
   "execution_count": 63,
   "metadata": {},
   "outputs": [
    {
     "name": "stdout",
     "output_type": "stream",
     "text": [
      "Интерполированное значение в точке 0.8: -1.2589165736607058\n"
     ]
    }
   ],
   "source": [
    "x = np.array([0.1, 0.5, 0.9, 1.3, 1.7])\n",
    "y = np.array([100.01, 4.25, 2.0446, 2.2817, 3.2360])\n",
    "\n",
    "\n",
    "spline = Cubic_Spline(x, y)\n",
    "\n",
    "x_interp = 0.8  # Точка интерполяции\n",
    "y_interp = spline(x_interp)  # Интерполированное значение\n",
    "print(f\"Интерполированное значение в точке {x_interp}: {y_interp}\")"
   ]
  },
  {
   "cell_type": "markdown",
   "metadata": {},
   "source": [
    "2. Построим графики"
   ]
  },
  {
   "cell_type": "code",
   "execution_count": 64,
   "metadata": {},
   "outputs": [
    {
     "data": {
      "image/png": "[encoded data removed]",
      "text/plain": [
       "<Figure size 640x480 with 1 Axes>"
      ]
     },
     "metadata": {},
     "output_type": "display_data"
    }
   ],
   "source": [
    "plt.xlabel(\"x\")\n",
    "plt.ylabel(\"y\")\n",
    "plt.grid(True)\n",
    "t = np.linspace(x[0]+1e-10, x[-1] - 1e-10, 1000)\n",
    "forDraw = []\n",
    "for t_val in t:\n",
    "    forDraw.append(spline(t_val))\n",
    "plt.plot(t, forDraw, label=\"Сплайн\", color='black')\n",
    "plt.scatter(x, y, c=\"r\", label=\"Исходные точки\")\n",
    "plt.scatter([x_interp], spline(x_interp), c=\"g\", label=\"Точка $X^{*}$\")\n",
    "\n",
    "plt.legend()\n",
    "plt.show()"
   ]
  },
  {
   "cell_type": "markdown",
   "metadata": {},
   "source": [
    "### Вывод 3.2\n",
    "Был построен кубический сплайн по заданным точкам и вычисленно значение сплайна в точке $X^{*}$."
   ]
  },
  {
   "cell_type": "markdown",
   "metadata": {},
   "source": [
    "## Задание 3.3\n",
    "Для таблично заданной функции путем решения нормальной системы МНК найти приближающие многочлены a) 1-ой  и б) 2-ой степени. Для каждого из приближающих многочленов вычислить сумму квадратов ошибок. Построить графики приближаемой функции и приближающих многочленов.\n",
    "\n",
    "Заданы точки:\n",
    "| i | 0 | 1 | 2 | 3 | 4 | 5 |\n",
    "|---|---|---|---|---|---|---|\n",
    "| $x_i$ | 0.1 | 0.5 | 0.9 |  1.3 | 1.7  |  2.1 |\n",
    "| $y_i$ | 100.1 | 4.25 | 2.0446 | 2.2817 | 3.236 | 4.6368 |\n"
   ]
  },
  {
   "cell_type": "markdown",
   "metadata": {},
   "source": [
    "1. Реализуем метод наименьших квадратов"
   ]
  },
  {
   "cell_type": "code",
   "execution_count": 65,
   "metadata": {},
   "outputs": [],
   "source": [
    "def OLS(x: np.ndarray, \n",
    "        target: np.ndarray, \n",
    "        m: int\n",
    ") -> tuple[np.ndarray[float], int]:\n",
    "    \"\"\"## Метод Наименьших Квадратов\n",
    "\n",
    "    ### Args:\n",
    "        x (np.ndarray): Вектор X\n",
    "        target (np.ndarray): Вектор целевой переменной\n",
    "        m (int): Степень многочлена\n",
    "\n",
    "    ### Returns:\n",
    "        tuple[np.ndarray[float], int]: Вектор коэффициентов и \n",
    "        Сумма квадратов ошибки \n",
    "    \"\"\"\n",
    "\n",
    "    X = np.vander(x, m+1, increasing=True)\n",
    "    coef = np.linalg.inv(X.T @ X) @ (X.T @ target)\n",
    "    SE = sum((X@coef - target)**2)\n",
    "\n",
    "    return coef, SE"
   ]
  },
  {
   "cell_type": "markdown",
   "metadata": {},
   "source": [
    "2. Реализуем оценку функции по найденным коэффициентам"
   ]
  },
  {
   "cell_type": "code",
   "execution_count": 66,
   "metadata": {},
   "outputs": [],
   "source": [
    "def estimate_f(x, w):\n",
    "    return np.sum([x**i * w[i] for i in range(len(w))], axis=0)"
   ]
  },
  {
   "cell_type": "markdown",
   "metadata": {},
   "source": [
    "3. Сделаем расчеты для варианта"
   ]
  },
  {
   "cell_type": "code",
   "execution_count": 67,
   "metadata": {},
   "outputs": [],
   "source": [
    "x = np.array([0.1, 0.5, 0.9, 1.3, 1.7, 2.1])\n",
    "y = np.array([100.1, 4.25, 2.0446, 2.2817, 3.236, 4.6368])"
   ]
  },
  {
   "cell_type": "code",
   "execution_count": 68,
   "metadata": {},
   "outputs": [],
   "source": [
    "coef1, SE_1 = OLS(x, y, 1)\n",
    "coef2, SE_2 = OLS(x, y, 2)\n"
   ]
  },
  {
   "cell_type": "code",
   "execution_count": 69,
   "metadata": {},
   "outputs": [
    {
     "name": "stdout",
     "output_type": "stream",
     "text": [
      "Квадратичная ошибка для многочлена степени m = 1: 4522.395031772\n",
      "Квадратичная ошибка для многочлена степени m = 2: 1559.3709140120006\n"
     ]
    }
   ],
   "source": [
    "print(f\"Квадратичная ошибка для многочлена степени m = 1: {SE_1}\")\n",
    "print(f\"Квадратичная ошибка для многочлена степени m = 2: {SE_2}\")\n"
   ]
  },
  {
   "cell_type": "markdown",
   "metadata": {},
   "source": [
    "3. Построим графики"
   ]
  },
  {
   "cell_type": "code",
   "execution_count": 70,
   "metadata": {},
   "outputs": [
    {
     "data": {
      "image/png": "[encoded data removed]",
      "text/plain": [
       "<Figure size 640x480 with 1 Axes>"
      ]
     },
     "metadata": {},
     "output_type": "display_data"
    }
   ],
   "source": [
    "plt.title(\"МНК\")\n",
    "plt.grid(True)\n",
    "plt.xlabel(\"x\")\n",
    "plt.ylabel(\"y\")\n",
    "t = np.linspace(x[0], x[-1], 1000)\n",
    "plt.scatter(x, y, c=\"r\", label=\"Искомые точки\")\n",
    "plt.plot(t, estimate_f(t, coef1), label=\"m=1\")\n",
    "plt.plot(t, estimate_f(t, coef2), label=\"m=2\")\n",
    "\n",
    "plt.legend()\n",
    "plt.show()"
   ]
  },
  {
   "cell_type": "markdown",
   "metadata": {},
   "source": [
    "### Вывод 3.3\n",
    "Был реализован Метод Наименьших Квадратов и построены приближения первого и второго порядков для функции, заданной точками. Рассчитаны квадратичные ошибки, на основе которых можно положить, что многочлен второй степени лучше аппроксимирует заданный набор точек."
   ]
  },
  {
   "cell_type": "markdown",
   "metadata": {},
   "source": [
    "## Задание 3.4\n",
    "Вычислить первую и вторую производную от таблично заданной функции в точке.\n",
    "\n",
    "Заданы точки:\n",
    "\n",
    "| i | 0 | 1 | 2 | 3 | 4 |\n",
    "|---|---|---|---|---|---|\n",
    "| $x_i$ | 0.0 | 1.0 | 2.0 | 3.0 | 4.0 | \n",
    "| $y_i$ | 0.0 | 0.86603 | 1.0 | 0.0 | -2.0  |\n",
    "\n",
    "$X^{*} = 2.0$"
   ]
  },
  {
   "cell_type": "markdown",
   "metadata": {},
   "source": [
    "1. Реализуем расчет первой и второй производной"
   ]
  },
  {
   "cell_type": "code",
   "execution_count": 71,
   "metadata": {},
   "outputs": [],
   "source": [
    "def first_derivative(y_values, x_values, point_index):\n",
    "    h_forward = x_values[point_index + 1] - x_values[point_index]\n",
    "    h_backward = x_values[point_index] - x_values[point_index - 1]\n",
    "    return ((y_values[point_index + 1] - y_values[point_index - 1]) /\n",
    "            (h_forward + h_backward))\n",
    "\n",
    "def second_derivative(y_values, x_values, point_index):\n",
    "    h_forward = x_values[point_index + 1] - x_values[point_index]\n",
    "    h_backward = x_values[point_index] - x_values[point_index - 1]\n",
    "    return (y_values[point_index + 1] - 2 * y_values[point_index] +\n",
    "             y_values[point_index - 1]) / (h_forward * h_backward)\n"
   ]
  },
  {
   "cell_type": "markdown",
   "metadata": {},
   "source": [
    "2. Проведем расчеты для варианта"
   ]
  },
  {
   "cell_type": "code",
   "execution_count": 72,
   "metadata": {},
   "outputs": [],
   "source": [
    "x = np.array([0.0, 1.0, 2.0, 3.0, 4.0])\n",
    "y = np.array([0.0, 0.86603, 1.0, 0.0, -2.0])\n",
    "i_s = 2"
   ]
  },
  {
   "cell_type": "code",
   "execution_count": 73,
   "metadata": {},
   "outputs": [
    {
     "name": "stdout",
     "output_type": "stream",
     "text": [
      "Значение первой производной в точке X_s: -0.433015 и второй: -1.1339700000000001\n"
     ]
    }
   ],
   "source": [
    "df_s = first_derivative(y, x, i_s)\n",
    "ddf_s = second_derivative(y, x, i_s)\n",
    "\n",
    "print(f\"Значение первой производной в точке X_s: {df_s} и второй: {ddf_s}\")"
   ]
  },
  {
   "cell_type": "markdown",
   "metadata": {},
   "source": [
    "### Вывод 3.4\n",
    "\n",
    "Были произведены расчеты первой и второй производной в точке как конечные разности."
   ]
  },
  {
   "cell_type": "markdown",
   "metadata": {},
   "source": [
    "## Задание 3.5\n",
    "Вычислить определенный интеграл  $F = \\int\\limits_{X_0}^{X_1} y \\ dx$, методами прямоугольников, трапеций, Симпсона с шагами $h_1, h_2$. Оценить погрешность вычислений, используя  Метод Рунге-Ромберга.\n",
    "\n",
    "Задана функция: \n",
    "$$y = x^2\\sqrt{36-x^2}$$ \n",
    "\n",
    "Края: $X_0=1$, $X_k=5$, $h_1=1.0$, $h_2 =0.5$"
   ]
  },
  {
   "cell_type": "markdown",
   "metadata": {},
   "source": [
    "1. Реализуем метод прямоугольников"
   ]
  },
  {
   "cell_type": "code",
   "execution_count": 74,
   "metadata": {},
   "outputs": [],
   "source": [
    "def rectangle_rule(f, a: float, b: float, h: float):\n",
    "    \"\"\"\n",
    "    Метод прямоугольников\n",
    "\n",
    "    Args:\n",
    "        f ((float)-> float): Исходная функция\n",
    "        a (float): Левая граница\n",
    "        b (float): Правая граница\n",
    "        h (float): Шаг\n",
    "\n",
    "    Returns:\n",
    "        float: Посчитаный интеграл\n",
    "    \"\"\"\n",
    "    n = int((b - a) / h)\n",
    "    integral = sum(f(a + i * h) for i in range(n))\n",
    "    return h * integral"
   ]
  },
  {
   "cell_type": "markdown",
   "metadata": {},
   "source": [
    "2. Реализуем метод трапеций"
   ]
  },
  {
   "cell_type": "code",
   "execution_count": 75,
   "metadata": {},
   "outputs": [],
   "source": [
    "def trapezoidal_rule(f, a, b, h):\n",
    "    \"\"\"\n",
    "    Метод трапеций\n",
    "\n",
    "    Args:\n",
    "        f ((float)-> float): Исходная функция\n",
    "        a (float): Левая граница\n",
    "        b (float): Правая граница\n",
    "        h (float): Шаг\n",
    "\n",
    "    Returns:\n",
    "        float: Посчитаный интеграл\n",
    "    \"\"\"\n",
    "    n = int((b - a) / h)\n",
    "    integral = 0.5 * (f(a) + f(b)) + sum(f(a + i * h) for i in range(1, n))\n",
    "    return h * integral"
   ]
  },
  {
   "cell_type": "markdown",
   "metadata": {},
   "source": [
    "3. Реализуем метод Симпсона"
   ]
  },
  {
   "cell_type": "code",
   "execution_count": 76,
   "metadata": {},
   "outputs": [],
   "source": [
    "def simpsons_rule(f, a, b, h):\n",
    "    \"\"\"\n",
    "    Метод Симпсона\n",
    "\n",
    "    Args:\n",
    "        f ((float)-> float): Исходная функция\n",
    "        a (float): Левая граница\n",
    "        b (float): Правая граница\n",
    "        h (float): Шаг\n",
    "\n",
    "    Returns:\n",
    "        float: Посчитаный интеграл\n",
    "    \"\"\"\n",
    "    n = int((b - a) / h)\n",
    "    h = (b - a) / n\n",
    "    integral = (f(a) + f(b) + 4 * sum(f(a + i * h) for i in range(1, n, 2)) + \n",
    "                2 * sum(f(a + i * h) for i in range(2, n, 2)))\n",
    "    return h * integral / 3"
   ]
  },
  {
   "cell_type": "markdown",
   "metadata": {},
   "source": [
    "4. Реализуем метод Рунге-Ромберга для оценки погрешности"
   ]
  },
  {
   "cell_type": "code",
   "execution_count": 77,
   "metadata": {},
   "outputs": [],
   "source": [
    "def runge_romberg(h1, I_h1, h2, I_h2, p):\n",
    "    return I_h2 + (I_h2 - I_h1) / ((h2 / h1) ** p - 1)"
   ]
  },
  {
   "cell_type": "markdown",
   "metadata": {},
   "source": [
    "5. Напишем функцию заданную вариантом"
   ]
  },
  {
   "cell_type": "code",
   "execution_count": 78,
   "metadata": {},
   "outputs": [],
   "source": [
    "def f(x):\n",
    "    return (x**2)*np.sqrt(36-x**2)"
   ]
  },
  {
   "cell_type": "markdown",
   "metadata": {},
   "source": [
    "6. Сделаем расчеты для варианта"
   ]
  },
  {
   "cell_type": "code",
   "execution_count": 79,
   "metadata": {},
   "outputs": [
    {
     "data": {
      "image/png": "[encoded data removed]",
      "text/plain": [
       "<Figure size 640x480 with 1 Axes>"
      ]
     },
     "metadata": {},
     "output_type": "display_data"
    }
   ],
   "source": [
    "x_0, x_1 = 1, 5\n",
    "h1, h2 = 1, 0.5\n",
    "\n",
    "t = np.linspace(x_0, x_1, 100)\n",
    "plt.plot(t, f(t))\n",
    "plt.grid(True)\n",
    "plt.show()"
   ]
  },
  {
   "cell_type": "code",
   "execution_count": 80,
   "metadata": {},
   "outputs": [],
   "source": [
    "I_rectangle_h1 = rectangle_rule(f, x_0, x_1, h1)\n",
    "I_trapezoidal_h1 = trapezoidal_rule(f, x_0, x_1, h1)\n",
    "I_simpsons_h1 = simpsons_rule(f, x_0, x_1, h1)\n",
    "\n",
    "I_rectangle_h2 = rectangle_rule(f, x_0, x_1, h2)\n",
    "I_trapezoidal_h2 = trapezoidal_rule(f, x_0, x_1, h2)\n",
    "I_simpsons_h2 = simpsons_rule(f, x_0, x_1, h2)"
   ]
  },
  {
   "cell_type": "code",
   "execution_count": 81,
   "metadata": {},
   "outputs": [
    {
     "name": "stdout",
     "output_type": "stream",
     "text": [
      "-------- Метод прямоугольников: --------\n",
      "h1: 146.8630438654221\n",
      "h2: 167.0439497263253\n",
      "Уточненный интеграл: 140.13607524512102\n",
      "Погрешность: 26.90787448120429\n",
      "\n",
      "-------- Метод трапеций: -------- \n",
      "h1: 185.3628138533148\n",
      "h2: 186.2938347202716\n",
      "Уточненный интеграл: 185.0524735643292\n",
      "Погрешность: 1.2413611559423998\n",
      "\n",
      "-------- Метод Симпсона: -------- \n",
      "h1: 186.36293742085172\n",
      "h2: 186.60417500925723\n",
      "Уточненный интеграл: 186.28252489138322\n",
      "Погрешность: 0.32165011787401454\n",
      "\n"
     ]
    }
   ],
   "source": [
    "p = 2  # Порядок метода\n",
    "S_rectangle = runge_romberg(h1, I_rectangle_h1, h2, I_rectangle_h2, p)\n",
    "S_trapezoidal = runge_romberg(h1, I_trapezoidal_h1, h2, I_trapezoidal_h2, p)\n",
    "S_simpsons = runge_romberg(h1, I_simpsons_h1, h2, I_simpsons_h2, p)\n",
    "\n",
    "# Вывод результатов\n",
    "print(\"-------- Метод прямоугольников: --------\")\n",
    "print(f\"h1: {I_rectangle_h1}\")\n",
    "print(f\"h2: {I_rectangle_h2}\")\n",
    "print(\"Уточненный интеграл:\", S_rectangle)\n",
    "print(f\"Погрешность: {np.abs(S_rectangle - I_rectangle_h2)}\\n\")\n",
    "\n",
    "# Вывод результатов\n",
    "print(\"-------- Метод трапеций: -------- \")\n",
    "print(f\"h1: {I_trapezoidal_h1}\")\n",
    "print(f\"h2: {I_trapezoidal_h2}\")\n",
    "print(\"Уточненный интеграл:\", S_trapezoidal)\n",
    "print(f\"Погрешность: {np.abs(S_trapezoidal - I_trapezoidal_h2)}\\n\")\n",
    "\n",
    "# Вывод результатов\n",
    "print(\"-------- Метод Симпсона: -------- \")\n",
    "print(f\"h1: {I_simpsons_h1}\")\n",
    "print(f\"h2: {I_simpsons_h2}\")\n",
    "print(\"Уточненный интеграл:\", S_simpsons)\n",
    "print(f\"Погрешность: {np.abs(S_simpsons - I_simpsons_h2)}\\n\")"
   ]
  },
  {
   "cell_type": "markdown",
   "metadata": {},
   "source": [
    "### Вывод по заданию 5\n",
    "Были разработаны алгоритмы численного интегрирования, такие как метод прямоугольников, мктод трапеций и метод Симпсона. Также произведена корректировка сумм с помощью метода Рунге-Ромберга. Самым точным оказался алгоритм Симпсона."
   ]
  }
 ],
 "metadata": {
  "kernelspec": {
   "display_name": "Python 3 (ipykernel)",
   "language": "python",
   "name": "python3"
  },
  "language_info": {
   "codemirror_mode": {
    "name": "ipython",
    "version": 3
   },
   "file_extension": ".py",
   "mimetype": "text/x-python",
   "name": "python",
   "nbconvert_exporter": "python",
   "pygments_lexer": "ipython3",
   "version": "3.11.8"
  }
 },
 "nbformat": 4,
 "nbformat_minor": 4
}

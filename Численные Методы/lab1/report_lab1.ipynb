{
 "cells": [
  {
   "cell_type": "markdown",
   "metadata": {},
   "source": [
    "# Лабораторная работа по предмету Численные методы №1 \n",
    "### \"Методы решения задач линейной алгебры\"\n",
    "**Судент**: Титеев Рамиль \\\n",
    "**Группа**: М8О-305Б-21\\\n",
    "Вариант 26"
   ]
  },
  {
   "cell_type": "markdown",
   "metadata": {},
   "source": [
    "Импортируем библиотеки, для дальнейшей работы с ними"
   ]
  },
  {
   "cell_type": "code",
   "execution_count": 1,
   "metadata": {},
   "outputs": [],
   "source": [
    "import numpy as np\n",
    "import matplotlib.pyplot as plt"
   ]
  },
  {
   "cell_type": "markdown",
   "metadata": {},
   "source": [
    "## Задание 1.1\n",
    "\n",
    "Реализовать алгоритм LU -  разложения матриц (с выбором главного элемента)\n",
    "в виде программы. Используя разработанное программное обеспечение, решить\n",
    "систему линейных алгебраических уравнений (СЛАУ). Для матрицы СЛАУ\n",
    "вычислить определитель и обратную матрицу.\n"
   ]
  },
  {
   "cell_type": "markdown",
   "metadata": {},
   "source": [
    "1. Реализуем функцию LU-разложения матрицы"
   ]
  },
  {
   "cell_type": "code",
   "execution_count": 2,
   "metadata": {},
   "outputs": [],
   "source": [
    "def lu_decomposition(matrix: list[list[int]]):\n",
    "    \"\"\"Функция LU-разложения матрицы\n",
    "\n",
    "    Args:\n",
    "        - matrix (list[list[int]]): Исходная матрица\n",
    "\n",
    "    Returns:\n",
    "        - tuple[list[list[float]], list[list[float]]]: Возвращает две матрицы\n",
    "        Lower и Upper\n",
    "    \"\"\"\n",
    "    n = len(matrix)\n",
    "    lower = [[0.0] * n for _ in range(n)]\n",
    "    upper = [[0.0] * n for _ in range(n)]\n",
    "\n",
    "    for i in range(n):\n",
    "        lower[i][i] = 1.0\n",
    "\n",
    "    for k in range(n):\n",
    "        for j in range(k, n):\n",
    "            sum_val = sum(lower[k][s] * upper[s][j] for s in range(k))\n",
    "            upper[k][j] = matrix[k][j] - sum_val\n",
    "\n",
    "        for i in range(k + 1, n):\n",
    "            sum_val = sum(lower[i][s] * upper[s][k] for s in range(k))\n",
    "            lower[i][k] = (matrix[i][k] - sum_val) / upper[k][k]\n",
    "\n",
    "    return lower, upper"
   ]
  },
  {
   "cell_type": "markdown",
   "metadata": {},
   "source": [
    "2. Реализуем функции расчета произведения матриц"
   ]
  },
  {
   "cell_type": "code",
   "execution_count": 3,
   "metadata": {},
   "outputs": [],
   "source": [
    "def forward_substitution(lower: list[list[int]], b: list[int]):\n",
    "    \"\"\"Функция для расчета произведения матрицы Lower и вектора b\n",
    "\n",
    "    Args:\n",
    "        - lower (list[list[int]]): Нижняя угловая матрица\n",
    "        - b (list[int]): Вектор свободных членов\n",
    "\n",
    "    Returns:\n",
    "        - list[float] : Вектор Y равный произведению матрицы Lower и вектора b\n",
    "    \"\"\"\n",
    "    n = len(lower)\n",
    "    y = [0.0] * n\n",
    "\n",
    "    for i in range(n):\n",
    "        y[i] = b[i] - sum(lower[i][j] * y[j] for j in range(i))\n",
    "\n",
    "    return y\n",
    "\n",
    "\n",
    "def backward_substitution(upper: list[list[int]], y: list[int]):\n",
    "    \"\"\"Функция для расчета произведения матрицы Upper и вектора Y\n",
    "\n",
    "    Args:\n",
    "        - upper (list[list[int]]): Верхняя угловая матрица\n",
    "        - b (list[int]): Вектор Y\n",
    "\n",
    "    Returns:\n",
    "        - list[float] : Вектор X равный произведению матрицы Upper и вектора Y\n",
    "    \"\"\"\n",
    "    n = len(upper)\n",
    "    x = [0.0] * n\n",
    "\n",
    "    for i in range(n - 1, -1, -1):\n",
    "        x[i] = (y[i] - sum(upper[i][j] * x[j]\n",
    "                           for j in range(i + 1, n))) / upper[i][i]\n",
    "\n",
    "    return x"
   ]
  },
  {
   "cell_type": "markdown",
   "metadata": {},
   "source": [
    "3. Реализуем функцию решение СЛАУ"
   ]
  },
  {
   "cell_type": "code",
   "execution_count": 4,
   "metadata": {},
   "outputs": [],
   "source": [
    "def lu_solver(matrix: list[list[int]], b: list[int]):\n",
    "    \"\"\"Функция решения СЛАУ\n",
    "\n",
    "    Args:\n",
    "        - matrix (list[list[int]]): Матрица A\n",
    "        - b (list[int]): Вектор свободных коэффициентов\n",
    "\n",
    "    Returns:\n",
    "        - list[float]: Возвращает вектор X\n",
    "    \"\"\"\n",
    "    lower, upper = lu_decomposition(matrix)\n",
    "    y = forward_substitution(lower, b)\n",
    "    x = backward_substitution(upper, y)\n",
    "    return x"
   ]
  },
  {
   "cell_type": "markdown",
   "metadata": {},
   "source": [
    "4. Реализуем Функции для расчета определителя и обратной матрицы."
   ]
  },
  {
   "cell_type": "code",
   "execution_count": 5,
   "metadata": {},
   "outputs": [],
   "source": [
    "def determinant(matrix: list[list[int]]):\n",
    "    \"\"\"Функция расчета определителя матрицы\n",
    "\n",
    "    Args:\n",
    "        - matrix (list[list[int]]): Исходная матрица\n",
    "\n",
    "    Returns:\n",
    "        - float: Определитель матрицы\n",
    "    \"\"\"\n",
    "    lower, upper = lu_decomposition(matrix)\n",
    "    det = 1.0\n",
    "    for i in range(len(lower)):\n",
    "        det *= upper[i][i]\n",
    "    return det\n",
    "\n",
    "\n",
    "def inverse(matrix: list[list[int]]) -> list[list[float]]:\n",
    "    \"\"\"Функция расчета обратной матрицы\n",
    "\n",
    "    Args:\n",
    "        - matrix (list[list[int]]): Исходная матрица\n",
    "\n",
    "    Returns:\n",
    "        - list[list[float]]: Обратная матрица\n",
    "    \"\"\"\n",
    "    n = len(matrix)\n",
    "    identity = [[1.0 if i == j else 0.0 for j in range(n)] for i in range(n)]\n",
    "    inv_matrix = []\n",
    "\n",
    "    for i in range(n):\n",
    "        b = identity[i]\n",
    "        x = lu_solver(matrix, b)\n",
    "        inv_matrix.append(x)\n",
    "\n",
    "    return list(map(list, zip(*inv_matrix)))"
   ]
  },
  {
   "cell_type": "markdown",
   "metadata": {},
   "source": [
    "5. Сделаем расчеты для варианта"
   ]
  },
  {
   "cell_type": "code",
   "execution_count": 6,
   "metadata": {},
   "outputs": [
    {
     "name": "stdout",
     "output_type": "stream",
     "text": [
      "Решение СЛАУ: [3.0, 0.9999999999999971, -0.99999999999999, -1.9999999999999998]\n",
      "Определитель матрицы A: -4788.0\n",
      "Обратная матрица A:\n",
      "[[-0.0192147   0.01963241 -0.18316625 -0.01211362]\n",
      " [-0.05764411  0.05889724 -0.04949875 -0.03634085]\n",
      " [ 0.00250627  0.06265664 -0.07393484  0.11027569]\n",
      " [ 0.06432749  0.10818713 -0.14766082 -0.00292398]]\n"
     ]
    }
   ],
   "source": [
    "A = [[-2, -9, -3, 7],\n",
    "     [-7, 8, 2, 5],\n",
    "     [-6, 2, 0, 0],\n",
    "     [0, -3, 8, -3]]\n",
    "\n",
    "B = [-26, -25, -16, -5]\n",
    "\n",
    "# Решение СЛАУ\n",
    "solution = lu_solver(A, B)\n",
    "print(\"Решение СЛАУ:\", solution)\n",
    "\n",
    "# Вычисление определителя и обратной матрицы\n",
    "det_A = determinant(A)\n",
    "inv_A = inverse(A)\n",
    "\n",
    "print(\"Определитель матрицы A:\", det_A)\n",
    "print(\"Обратная матрица A:\") \n",
    "print(np.array(inv_A))"
   ]
  },
  {
   "cell_type": "markdown",
   "metadata": {},
   "source": [
    "## Задание 1.2\n",
    "\n",
    "Реализовать метод прогонки в виде программы, задавая в качестве\n",
    "входных данных ненулевые элементы матрицы системы и вектор правых частей.\n",
    "Используя разработанное программное обеспечение, решить СЛАУ\n",
    "с трехдиагональной матрицей."
   ]
  },
  {
   "cell_type": "markdown",
   "metadata": {},
   "source": [
    "1. Реализуем функцию решения СЛАУ с помощью метода прогонки"
   ]
  },
  {
   "cell_type": "code",
   "execution_count": 7,
   "metadata": {},
   "outputs": [],
   "source": [
    "def tridiagonal_solver(a: list[int], b: list[int], c: list[int], d: list[int]):\n",
    "    \"\"\"\n",
    "    Функция решения СЛАУ с трехдиагональной матрицей\n",
    "    с помощью метода прогонки\n",
    "\n",
    "    Args:\n",
    "        - a (list[int]): Нижняя диагонал\n",
    "    Args:\n",
    "        - a (list[int]): Нижняя диагональ\n",
    "        - b (list[int]): Главная диагональ\n",
    "        - c (list[int]): Верхняя диагональ\n",
    "        - d (list[int]): Вектор правых частей\n",
    "\n",
    "    Returns:\n",
    "        - list[float]: Возвращает вектор X, решение СЛАУ\n",
    "    \"\"\"\n",
    "    n = len(d)\n",
    "    alpha = [0.0] * n\n",
    "    beta = [0.0] * n\n",
    "    x = [0.0] * n\n",
    "\n",
    "    # Прямой ход\n",
    "    alpha[0] = b[0]\n",
    "    beta[0] = d[0] / alpha[0]\n",
    "\n",
    "    for i in range(1, n):\n",
    "        alpha[i] = b[i] - a[i] * c[i-1] / alpha[i-1]\n",
    "        beta[i] = (d[i] - a[i] * beta[i-1]) / alpha[i]\n",
    "\n",
    "    # Обратный ход\n",
    "    x[-1] = beta[-1]\n",
    "    for i in range(n-2, -1, -1):\n",
    "        x[i] = beta[i] - c[i] * x[i+1] / alpha[i]\n",
    "\n",
    "    return x\n"
   ]
  },
  {
   "cell_type": "markdown",
   "metadata": {},
   "source": [
    "2. Сделаем расчеты для варианта"
   ]
  },
  {
   "cell_type": "code",
   "execution_count": 8,
   "metadata": {},
   "outputs": [
    {
     "name": "stdout",
     "output_type": "stream",
     "text": [
      "Решение СЛАУ: [4.973565251071507, 6.0453167124488445, -3.104480198145949, -5.438912643525856, -4.057588714650467]\n"
     ]
    }
   ],
   "source": [
    "A = [0, -7, -7, 4, -6]   # нижняя диагональ\n",
    "B = [-12, -11, 21, -13, 11]   # главная диагональ\n",
    "C = [-7, -3, -8, 5, 0]   # верхняя диагональ\n",
    "D = [-102, -92, -64, 38, -12]  # вектор правых частей\n",
    "\n",
    "# Решение СЛАУ\n",
    "solution = tridiagonal_solver(A, B, C, D)\n",
    "print(\"Решение СЛАУ:\", solution)"
   ]
  },
  {
   "cell_type": "markdown",
   "metadata": {},
   "source": [
    "## Задание 1.3\n",
    "\n",
    "Реализовать метод простых итераций и метод Зейделя в виде программ,\n",
    "задавая в качестве входных данных матрицу системы, вектор правых частей\n",
    "и точность вычислений. Используя разработанное программное обеспечение,\n",
    "решить СЛАУ. Проанализировать количество итераций, необходимое для достижения\n",
    "заданной точности."
   ]
  },
  {
   "cell_type": "markdown",
   "metadata": {},
   "source": [
    "1. Реализуем функцию для Метода простых итераций"
   ]
  },
  {
   "cell_type": "code",
   "execution_count": 9,
   "metadata": {},
   "outputs": [],
   "source": [
    "def simple_iteration_method(A: list[list[int]], b: list[int], x0: list[int],\n",
    "                            tolerance=1e-10, max_iterations=1000):\n",
    "    \"\"\"Метод простых итераций для решения системы линейных уравнений\n",
    "\n",
    "    Args:\n",
    "        - A (list[list[int]]): Матрица системы\n",
    "        - b (list[int]): Вектор правых частей\n",
    "        - x0 (list[int]): Начальное приближение\n",
    "        - tolerance (float, optional): Точность вычислений. Defaults to 1e-10.\n",
    "        - max_iterations (int, optional): Максимальное количество итераций.\n",
    "        Defaults to 1000.\n",
    "\n",
    "    Raises:\n",
    "        Exception: Метод не сошелся\n",
    "\n",
    "    Returns:\n",
    "        tuple[list[int], int, list[int], list[float]]: Решение системы, количество итераций, история итераций, история остатков\n",
    "    \"\"\"\n",
    "    n = len(b)\n",
    "    C = [[-A[i][j] / A[i][i] if i != j else 0 for j in range(n)]\n",
    "         for i in range(n)]\n",
    "    d = [b[i] / A[i][i] for i in range(n)]\n",
    "\n",
    "    X0 = x0.copy()\n",
    "    iteration = 0\n",
    "    iteration_history = []\n",
    "    residual_history = []\n",
    "    while iteration < max_iterations:\n",
    "        X = [sum(C[i][j] * X0[j] for j in range(n)) + d[i] for i in range(n)]\n",
    "\n",
    "        iteration_history.append(iteration+1)\n",
    "        residual_history.append(max([abs(X[i] - X0[i]) for i in range(n)]))\n",
    "        if max([abs(X[i] - X0[i]) for i in range(n)]) <= tolerance:\n",
    "            return X, iteration + 1, iteration_history, residual_history\n",
    "        X0 = X.copy()\n",
    "        iteration += 1\n",
    "\n",
    "    raise Exception(\"Метод не сошелся за максимальное количество итераций\")"
   ]
  },
  {
   "cell_type": "markdown",
   "metadata": {},
   "source": [
    "2. Реализуем функцию для Метода Зейделя"
   ]
  },
  {
   "cell_type": "code",
   "execution_count": 10,
   "metadata": {},
   "outputs": [],
   "source": [
    "def gauss_seidel(A: list[list[int]], b: list[int], x0: list[int],\n",
    "                 tolerance=1e-10, max_iterations=1000):\n",
    "    \"\"\"Метод Зейделя для решения системы линейных уравнений\n",
    "\n",
    "    Args:\n",
    "        - A (list[list[int]]): Матрица системы\n",
    "        - b (list[int]): Вектор правых частей\n",
    "        - x0 (list[int]): Начальное приближение\n",
    "        - tolerance (float, optional): Точность вычислений. Defaults to 1e-10.\n",
    "        - max_iterations (int, optional): Максимальное количество итераций.\n",
    "        Defaults to 1000.\n",
    "\n",
    "    Raises:\n",
    "        Exception: Метод не сошелся\n",
    "\n",
    "    Returns:\n",
    "        tuple[list[int], int, list[int], list[float]]: Решение системы, количество итераций, история итераций, история остатков\n",
    "    \"\"\"\n",
    "    iteration_history = []\n",
    "    residual_history = []\n",
    "    n = len(b)\n",
    "    x = x0.copy()\n",
    "    iteration = 0\n",
    "    while iteration < max_iterations:\n",
    "        \n",
    "        for i in range(n):\n",
    "            sum1 = sum(A[i][j] * x[j] for j in range(i))\n",
    "            sum2 = sum(A[i][j] * x[j] for j in range(i + 1, n))\n",
    "            x[i] = (b[i] - sum1 - sum2) / A[i][i]\n",
    "\n",
    "        residual = [b[i] - sum(A[i][j] * x[j] for j in range(n))\n",
    "                    for i in range(n)]\n",
    "        iteration_history.append(iteration+1)\n",
    "        residual_history.append(max(abs(residual[i]) for i in range(n)))\n",
    "        if max(abs(residual[i]) for i in range(n)) < tolerance:\n",
    "            return x, iteration + 1, iteration_history, residual_history\n",
    "\n",
    "        iteration += 1\n",
    "\n",
    "    raise Exception(\"Метод не сошелся за максимальное количество итераций\")"
   ]
  },
  {
   "cell_type": "markdown",
   "metadata": {},
   "source": [
    "3. Сделаем расчеты для варианта"
   ]
  },
  {
   "cell_type": "code",
   "execution_count": 11,
   "metadata": {},
   "outputs": [
    {
     "name": "stdout",
     "output_type": "stream",
     "text": [
      "Метод простых итераций:\n",
      "Решение: [2.9999999999794085, 1.9999999999846396, 8.999999999982519, 2.000000000025967]\n",
      "Количество итераций: 29\n",
      "\n",
      "Метод Зейделя:\n",
      "Решение: [2.9999999999971245, 1.9999999999959641, 9.000000000000568, 1.999999999998538]\n",
      "Количество итераций: 14\n"
     ]
    }
   ],
   "source": [
    "A = [[18, 0, -2, 7],\n",
    "     [-1, 14, -3, 2],\n",
    "     [5, 5, 26, 7],\n",
    "     [-2, -6, 9, 24]]\n",
    "\n",
    "b = [50, 2, 273, 111]\n",
    "x0 = [0, 0, 0, 0]\n",
    "\n",
    "# Решение методом простых итераций\n",
    "solution_s_i, iterations_s_i, s_i_iter_history, s_i_res_history   = simple_iteration_method(A, b, x0)\n",
    "print(\"Метод простых итераций:\")\n",
    "print(\"Решение:\", solution_s_i)\n",
    "print(\"Количество итераций:\", iterations_s_i)\n",
    "\n",
    "# Решение методом Зейделя\n",
    "solution_gauss_seidel, iterations_gauss_seidel, seidel_iter_history, seidel_res_history  = gauss_seidel(A, b, x0)\n",
    "print(\"\\nМетод Зейделя:\")\n",
    "print(\"Решение:\", solution_gauss_seidel)\n",
    "print(\"Количество итераций:\", iterations_gauss_seidel)\n"
   ]
  },
  {
   "cell_type": "markdown",
   "metadata": {},
   "source": [
    "4. Проведем анализ количества итераций, необходимого для достижения\n",
    "заданной точности"
   ]
  },
  {
   "cell_type": "code",
   "execution_count": 12,
   "metadata": {},
   "outputs": [
    {
     "data": {
      "text/plain": [
       "<matplotlib.legend.Legend at 0x7f0e401e9dd0>"
      ]
     },
     "execution_count": 12,
     "metadata": {},
     "output_type": "execute_result"
    },
    {
     "data": {
      "image/png": "[encoded data removed]",
      "text/plain": [
       "<Figure size 640x480 with 1 Axes>"
      ]
     },
     "metadata": {},
     "output_type": "display_data"
    }
   ],
   "source": [
    "plt.style.use('ggplot')\n",
    "\n",
    "\n",
    "plt.plot(s_i_iter_history, s_i_res_history, label='Метод простых итераций')\n",
    "plt.plot(seidel_iter_history, seidel_res_history, label='Метод Зейделя')\n",
    "\n",
    "plt.title('Анализ количества итераций')\n",
    "plt.ylabel('Остатки')\n",
    "plt.xlabel('Число итераций')\n",
    "plt.legend()"
   ]
  },
  {
   "cell_type": "markdown",
   "metadata": {},
   "source": [
    "## Задание 1.4\n",
    "\n",
    "Реализовать метод вращений в виде программы, задавая\n",
    "в качестве входных данных матрицу и точность вычислений.\n",
    "Используя разработанное программное обеспечение, найти\n",
    "собственные значения и собственные векторы симметрических\n",
    "матриц. Проанализировать зависимость погрешности вычислений\n",
    "от числа итераций."
   ]
  },
  {
   "cell_type": "markdown",
   "metadata": {},
   "source": [
    "1. Реализуем функцию вычисления собственного значения и собственного вектора с помощью метода вращения"
   ]
  },
  {
   "cell_type": "code",
   "execution_count": 13,
   "metadata": {},
   "outputs": [],
   "source": [
    "def jacobi_rotation(A: list[list[int]], tol=1e-10, max_iter=1000):\n",
    "    \"\"\"\n",
    "    Функция вычисления собственного значения и собственного вектора с помощью метода вращения\n",
    "\n",
    "    Args:\n",
    "        A (list[list[int]]):Исходная матрицв\n",
    "        tol (_type_, optional): Точность вычисления. Defaults to 1e-10.\n",
    "        max_iter (int, optional): Максимальное число итераций Defaults to 1000.\n",
    "\n",
    "    Returns:\n",
    "        tuple[NDArray[Any], NDArray[float64], list[int], list[float]]: Вектор собственных значений, Собственные векторы, история итераций, история остатков\n",
    "    \"\"\"\n",
    "    n = len(A)\n",
    "    eigenvectors = np.eye(n)\n",
    "    iteration = 0\n",
    "    iteration_history = []\n",
    "    residual_history = []\n",
    "    while iteration < max_iter:\n",
    "        max_off_diag = 0\n",
    "        p = 0\n",
    "        q = 0\n",
    "\n",
    "        for i in range(n):\n",
    "            for j in range(i+1, n):\n",
    "                if abs(A[i, j]) > max_off_diag:\n",
    "                    max_off_diag = abs(A[i, j])\n",
    "                    p = i\n",
    "                    q = j\n",
    "\n",
    "        iteration_history.append(iteration+1)\n",
    "        residual_history.append(max_off_diag)\n",
    "\n",
    "        if max_off_diag < tol:\n",
    "            break\n",
    "\n",
    "        if A[p, p] == A[q, q]:\n",
    "            theta = np.pi / 4\n",
    "        else:\n",
    "            theta = 0.5 * np.arctan(2 * A[p, q] / (A[p, p] - A[q, q]))\n",
    "\n",
    "        c = np.cos(theta)\n",
    "        s = np.sin(theta)\n",
    "\n",
    "        R = np.eye(n)\n",
    "        R[p, p] = c\n",
    "        R[p, q] = -s\n",
    "        R[q, p] = s\n",
    "        R[q, q] = c\n",
    "\n",
    "        A = np.dot(np.dot(R.T, A), R)\n",
    "        eigenvectors = np.dot(eigenvectors, R)\n",
    "        iteration += 1\n",
    "\n",
    "    eigenvalues = np.diag(A)\n",
    "\n",
    "    return eigenvalues, eigenvectors, iteration_history, residual_history"
   ]
  },
  {
   "cell_type": "markdown",
   "metadata": {},
   "source": [
    "2. Сделаем расчеты для варианта"
   ]
  },
  {
   "cell_type": "code",
   "execution_count": 14,
   "metadata": {},
   "outputs": [
    {
     "name": "stdout",
     "output_type": "stream",
     "text": [
      "Eigenvalues: [-1.63918928  8.92409971 12.71508957]\n",
      "Eigenvectors:\n",
      "[[ 0.77768148  0.01419484 -0.62849822]\n",
      " [ 0.01402169  0.99910469  0.03991504]\n",
      " [ 0.62850211 -0.03985379  0.77678618]]\n"
     ]
    }
   ],
   "source": [
    "A = np.array([[4, -1, -7],\n",
    "              [1, 9, 1],\n",
    "              [-7, 1, 7]])\n",
    "eigenvalues, eigenvectors, iter_history, res_history = jacobi_rotation(A)\n",
    "print(\"Eigenvalues:\", eigenvalues)\n",
    "print(\"Eigenvectors:\")\n",
    "print(eigenvectors)\n"
   ]
  },
  {
   "cell_type": "markdown",
   "metadata": {},
   "source": [
    "3. Проведем анализ количества итераций, необходимого для достижения\n",
    "заданной точности"
   ]
  },
  {
   "cell_type": "code",
   "execution_count": 15,
   "metadata": {},
   "outputs": [
    {
     "data": {
      "text/plain": [
       "<matplotlib.legend.Legend at 0x7f0e21eedb10>"
      ]
     },
     "execution_count": 15,
     "metadata": {},
     "output_type": "execute_result"
    },
    {
     "data": {
      "image/png": "[encoded data removed]",
      "text/plain": [
       "<Figure size 640x480 with 1 Axes>"
      ]
     },
     "metadata": {},
     "output_type": "display_data"
    }
   ],
   "source": [
    "plt.style.use('ggplot')\n",
    "\n",
    "\n",
    "plt.plot(iter_history, res_history, label='метод вращения')\n",
    "\n",
    "plt.title('Анализ количества итераций')\n",
    "plt.ylabel('Остатки')\n",
    "plt.xlabel('Число итераций')\n",
    "plt.legend()"
   ]
  },
  {
   "cell_type": "markdown",
   "metadata": {},
   "source": [
    "## Задание 1.5\n",
    "\n",
    "Реализовать алгоритм QR – разложения матриц в виде программы.\n",
    "На его основе разработать программу, реализующую QR – алгоритм\n",
    "решения полной проблемы собственных значений произвольных матриц,\n",
    "задавая в качестве входных данных матрицу и точность вычислений.\n",
    "С использованием разработанного программного обеспечения найти\n",
    "собственные значения матрицы."
   ]
  },
  {
   "cell_type": "markdown",
   "metadata": {},
   "source": [
    "1. Реализуем функцию QR-разложения матрицы"
   ]
  },
  {
   "cell_type": "code",
   "execution_count": 16,
   "metadata": {},
   "outputs": [],
   "source": [
    "def qr_decomposition(matrix: list[list[int]]):\n",
    "    \"\"\"\n",
    "    Функция QR-разложения матрицы\n",
    "\n",
    "    Args:\n",
    "        matrix (list[list[int]]): Исходная матрица\n",
    "\n",
    "    Returns:\n",
    "        tuple[NDArray[float64], NDArray[float64]]: Матрицы Q и матрица R\n",
    "    \"\"\"\n",
    "    m, n = matrix.shape\n",
    "    q = np.zeros((m, n))\n",
    "    r = np.zeros((n, n))\n",
    "\n",
    "    for i in range(n):\n",
    "        v = matrix[:, i]\n",
    "        for j in range(i):\n",
    "            r[j, i] = np.dot(q[:, j], matrix[:, i])\n",
    "            v -= r[j, i] * q[:, j]\n",
    "\n",
    "        r[i, i] = np.linalg.norm(v)\n",
    "        q[:, i] = v / r[i, i]\n",
    "\n",
    "    return q, r"
   ]
  },
  {
   "cell_type": "markdown",
   "metadata": {},
   "source": [
    "2. Реализуем функцию расчета собственных значений с помощью QR-разложения матрицы"
   ]
  },
  {
   "cell_type": "code",
   "execution_count": 17,
   "metadata": {},
   "outputs": [],
   "source": [
    "def qr_algorithm(matrix: list[list[int]], epsilon=1e-6, max_iterations=1000):\n",
    "    \"\"\"\n",
    "    Функция расчета собственных значений с помощью QR-разложения матрицы\n",
    "\n",
    "    Args:\n",
    "        matrix (list[list[int]]): исходная Матрица\n",
    "        epsilon (_type_, optional): Точность вычислений. Defaults to 1e-6.\n",
    "        max_iterations (int, optional): Максимальное число итераций. Defaults to 1000.\n",
    "\n",
    "    Returns:\n",
    "        NDArray[Any]: Вектор собственных значений\n",
    "    \"\"\"\n",
    "    current_matrix = matrix.copy()\n",
    "\n",
    "    for _ in range(max_iterations):\n",
    "        q, r = qr_decomposition(current_matrix)\n",
    "        current_matrix = np.dot(r, q)\n",
    "\n",
    "        if np.linalg.norm(np.triu(current_matrix, k=1)) < epsilon:\n",
    "            break\n",
    "\n",
    "    eigenvalues = np.diag(current_matrix)\n",
    "\n",
    "    return eigenvalues"
   ]
  },
  {
   "cell_type": "markdown",
   "metadata": {},
   "source": [
    "3. Сделаем расчеты для варианта"
   ]
  },
  {
   "cell_type": "code",
   "execution_count": 18,
   "metadata": {},
   "outputs": [
    {
     "name": "stdout",
     "output_type": "stream",
     "text": [
      "Собственные значения матрицы: [-15.99655029   5.53688394  -2.54033366]\n"
     ]
    }
   ],
   "source": [
    "A = np.array([[-9, -9, -3],\n",
    "              [-9, 0, -2],\n",
    "              [-5, -1, -4]], dtype=float)\n",
    "\n",
    "eigenvalues = qr_algorithm(A)\n",
    "print(\"Собственные значения матрицы:\", eigenvalues)"
   ]
  }
 ],
 "metadata": {
  "kernelspec": {
   "display_name": ".main-venv",
   "language": "python",
   "name": "python3"
  },
  "language_info": {
   "codemirror_mode": {
    "name": "ipython",
    "version": 3
   },
   "file_extension": ".py",
   "mimetype": "text/x-python",
   "name": "python",
   "nbconvert_exporter": "python",
   "pygments_lexer": "ipython3",
   "version": "3.11.7"
  }
 },
 "nbformat": 4,
 "nbformat_minor": 2
}

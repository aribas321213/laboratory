{
 "cells": [
  {
   "cell_type": "markdown",
   "metadata": {},
   "source": [
    "## Московский Авиационный Институт\n",
    "\n",
    "# Лабораторная работа по предмету Численные методы №4\n",
    "### \"Методы решения начальных и краевых задач для обыкновенных дифференциальных уравнений (ОДУ) и систем ОДУ\"\n",
    "**Преподаватель**: Филиппов Глеб Сергеевич \\\n",
    "**Судент**: Титеев Рамиль \\\n",
    "**Группа**: М8О-305Б-21\\\n",
    "Вариант 26"
   ]
  },
  {
   "cell_type": "markdown",
   "metadata": {},
   "source": [
    "Импортируем библиотеки, для дальнейшей работы с ними"
   ]
  },
  {
   "cell_type": "code",
   "execution_count": 1,
   "metadata": {},
   "outputs": [],
   "source": [
    "import numpy as np\n",
    "import matplotlib.pyplot as plt\n",
    "from typing import Callable \n",
    "\n",
    "plt.style.use('ggplot')\n"
   ]
  },
  {
   "cell_type": "markdown",
   "metadata": {},
   "source": [
    "## Задание 4.1\n",
    "Реализовать методы Эйлера, Рунге-Кутты и Адамса 4-го порядка в виде программ, задавая в качестве входных данных шаг сетки . С использованием разработанного программного обеспечения решить задачу Коши для ОДУ 2-го порядка на указанном отрезке. Оценить погрешность численного решения с использованием метода Рунге – Ромберга и путем сравнения с точным решением.\n",
    "\n",
    "Задана задача Коши: \n",
    "$$\\begin{cases}\n",
    "\\begin{aligned}\n",
    "x^4y'' + 2x^3y' + y = 0,\\\\\n",
    "y(1) = 1, \\\\\n",
    "y'(1) = 1,\\\\\n",
    "x \\in (1;2) \n",
    "\\end{aligned}\n",
    "\\end{cases}\n",
    "$$\n",
    "\n",
    "$h=0.1$\n",
    "\n",
    "Задано точное решение: \n",
    "$$y = (sin(1) + cos(1))cos(\\frac{1}{x}) + (sin(1) - cos(1))sin(\\frac{1}{x})$$"
   ]
  },
  {
   "cell_type": "markdown",
   "metadata": {},
   "source": [
    "1. Реализуем метод Эйлера"
   ]
  },
  {
   "cell_type": "code",
   "execution_count": 2,
   "metadata": {},
   "outputs": [],
   "source": [
    "def euler_method_system(f: Callable[[float,float,float], tuple[float, float]], \n",
    "                        y0: float, \n",
    "                        z0: float, \n",
    "                        t0: float, \n",
    "                        tn: float, \n",
    "                        h: float\n",
    ") -> tuple[np.ndarray[float], np.ndarray[float], np.ndarray[float]]:\n",
    "    \"\"\"\n",
    "    Метод Эйлера для решения ОДУ\n",
    "\n",
    "    Args:\n",
    "        f (Callable[[float,float,float], tuple[float, float]]): Функция \n",
    "        представляющая из себя правую часть ОДУ\n",
    "        y0 (float): Условия коши в t0 первого порядка\n",
    "        z0 (float): Условия коши d t0 второго порядка\n",
    "        t0 (float): Левая граница решения\n",
    "        tn (float): Правая граница решения\n",
    "        h (float): Шаг\n",
    "\n",
    "    Returns:\n",
    "        tuple[np.ndarray[float], np.ndarray[float], np.ndarray[float]]: Найденные значения\n",
    "    \"\"\"\n",
    "    \n",
    "    t_values = np.arange(t0, tn+h, h)\n",
    "    y_values = [y0]\n",
    "    z_values = [z0]\n",
    "    for t in t_values[1:]:\n",
    "        y_new = y_values[-1] + h * z_values[-1]\n",
    "        z_new = z_values[-1] + h * f(t-h, y_values[-1], z_values[-1])[1]\n",
    "        y_values.append(y_new)\n",
    "        z_values.append(z_new)\n",
    "    return t_values, np.array(y_values), np.array(z_values)"
   ]
  },
  {
   "cell_type": "markdown",
   "metadata": {},
   "source": [
    "2. Реализуем метод Рунге-Кутты"
   ]
  },
  {
   "cell_type": "code",
   "execution_count": 3,
   "metadata": {},
   "outputs": [],
   "source": [
    "def runge_kutta_method_system(f: Callable[[float,float,float], tuple[float, float]], \n",
    "                              y0: float, \n",
    "                              z0: float, \n",
    "                              t0: float, \n",
    "                              tn: float, \n",
    "                              h: float\n",
    ") -> tuple[np.ndarray[float], np.ndarray[float], np.ndarray[float]]:\n",
    "    \"\"\"\n",
    "    Метод Рунге-Кутты для решения ОДУ\n",
    "\n",
    "    Args:\n",
    "        f (Callable[[float,float,float], tuple[float, float]]): Функция \n",
    "        представляющая из себя правую часть ОДУ\n",
    "        y0 (float): Условия коши в t0 первого порядка\n",
    "        z0 (float): Условия коши d t0 второго порядка\n",
    "        t0 (float): Левая граница решения\n",
    "        tn (float): Правая граница решения\n",
    "        h (float): Шаг\n",
    "\n",
    "    Returns:\n",
    "        tuple[np.ndarray[float], np.ndarray[float], np.ndarray[float]]: Найденные значения\n",
    "    \"\"\"\n",
    "    t_values = np.arange(t0, tn+h, h)\n",
    "    y_values = [y0]\n",
    "    z_values = [z0]\n",
    "    for t in t_values[1:]:\n",
    "        k1y = h * z_values[-1]\n",
    "        k1z = h * f(t-h, y_values[-1], z_values[-1])[1]\n",
    "        k2y = h * (z_values[-1] + k1z / 2)\n",
    "        k2z = h * f(t-h+h/2, y_values[-1]+k1y/2, z_values[-1]+k1z/2)[1]\n",
    "        k3y = h * (z_values[-1] + k2z / 2)\n",
    "        k3z = h * f(t-h+h/2, y_values[-1]+k2y/2, z_values[-1]+k2z/2)[1]\n",
    "        k4y = h * (z_values[-1] + k3z)\n",
    "        k4z = h * f(t, y_values[-1]+k3y, z_values[-1]+k3z)[1]\n",
    "        y_new = y_values[-1] + (k1y + 2*k2y + 2*k3y + k4y) / 6\n",
    "        z_new = z_values[-1] + (k1z + 2*k2z + 2*k3z + k4z) / 6\n",
    "        y_values.append(y_new)\n",
    "        z_values.append(z_new)\n",
    "    return t_values, np.array(y_values), np.array(z_values)"
   ]
  },
  {
   "cell_type": "markdown",
   "metadata": {},
   "source": [
    "3. Реализуем метод Адамса"
   ]
  },
  {
   "cell_type": "code",
   "execution_count": 4,
   "metadata": {},
   "outputs": [],
   "source": [
    "def adams_method_system(f: Callable[[float,float,float], tuple[float, float]], \n",
    "                        y0: float, \n",
    "                        z0: float, \n",
    "                        t0: float, \n",
    "                        tn: float, \n",
    "                        h: float\n",
    ") -> tuple[np.ndarray[float], np.ndarray[float], np.ndarray[float]]:\n",
    "    \"\"\"\n",
    "    Метод Адамса для решения ОДУ\n",
    "\n",
    "    Args:\n",
    "        f (Callable[[float,float,float], tuple[float, float]]): Функция \n",
    "        представляющая из себя правую часть ОДУ\n",
    "        y0 (float): Условия коши в t0 первого порядка\n",
    "        z0 (float): Условия коши d t0 второго порядка\n",
    "        t0 (float): Левая граница решения\n",
    "        tn (float): Правая граница решения\n",
    "        h (float): Шаг\n",
    "\n",
    "    Returns:\n",
    "        tuple[np.ndarray[float], np.ndarray[float], np.ndarray[float]]: Найденные значения\n",
    "    \"\"\"\n",
    "    num_steps = int((tn - t0) / h) + 1\n",
    "    t_values = np.linspace(t0, tn, num_steps)\n",
    "    y_values = np.zeros(num_steps)\n",
    "    z_values = np.zeros(num_steps)\n",
    "    y_values[0] = y0\n",
    "    z_values[0] = z0\n",
    "\n",
    "    _, y_rk, z_rk = runge_kutta_method_system(f, y0, z0, t0, t0 + 2*h, h)\n",
    "    y_values[:4] = y_rk\n",
    "    z_values[:4] = z_rk\n",
    "\n",
    "    for i in range(4, num_steps):\n",
    "        y_values[i] = y_values[i-1] + h/24 * (55*z_values[i-1] - 59*z_values[i-2] + \n",
    "                                              37*z_values[i-3] - 9*z_values[i-4])\n",
    "        \n",
    "        z_values[i] = z_values[i-1] + h/24 * (55*f(t_values[i-1], y_values[i-1], z_values[i-1])[1] -\n",
    "                                              59*f(t_values[i-2], y_values[i-2], z_values[i-2])[1] +\n",
    "                                              37*f(t_values[i-3], y_values[i-3], z_values[i-3])[1] -\n",
    "                                              9*f(t_values[i-4], y_values[i-4], z_values[i-4])[1])\n",
    "\n",
    "    return t_values, y_values, z_values"
   ]
  },
  {
   "cell_type": "markdown",
   "metadata": {},
   "source": [
    "4. Реализуем метод Рунге-Румберга"
   ]
  },
  {
   "cell_type": "code",
   "execution_count": 5,
   "metadata": {},
   "outputs": [],
   "source": [
    "def runge_romberg_error(h1, y1, h2, y2, p):\n",
    "    return np.abs((y1 - y2) / ((h2 / h1)**p - 1))"
   ]
  },
  {
   "cell_type": "markdown",
   "metadata": {},
   "source": [
    "5. Проведем расчеты для варианта"
   ]
  },
  {
   "cell_type": "code",
   "execution_count": 6,
   "metadata": {},
   "outputs": [],
   "source": [
    "x0 = 1\n",
    "xn = 2\n",
    "h = 0.1\n",
    "y0 = 1\n",
    "z0 = 1\n",
    "\n",
    "def y_etalon(t):\n",
    "    return (np.sin(1)+np.cos(1))*np.cos(1/t) + (np.sin(1)-np.cos(1))*np.sin(1/t) \n",
    "\n",
    "\n",
    "def f(x, y, z):\n",
    "    dy = z\n",
    "    dz = (-2*(x**3)*z - y)/(x**4)\n",
    "    return dy, dz"
   ]
  },
  {
   "cell_type": "code",
   "execution_count": 7,
   "metadata": {},
   "outputs": [],
   "source": [
    "t_eul = euler_method_system(f, y0, z0, x0, xn, h)\n",
    "t_run  = runge_kutta_method_system(f, y0, z0, x0, xn, h)\n",
    "t_adam = adams_method_system(f, y0, z0, x0, xn, h)"
   ]
  },
  {
   "cell_type": "code",
   "execution_count": 8,
   "metadata": {},
   "outputs": [
    {
     "data": {
      "image/png": "[encoded data removed]",
      "text/plain": [
       "<Figure size 640x480 with 1 Axes>"
      ]
     },
     "metadata": {},
     "output_type": "display_data"
    }
   ],
   "source": [
    "t_etalon = np.linspace(x0, xn, 1000)\n",
    "\n",
    "plt.title(\"Решение ОДУ\")\n",
    "plt.xlabel(\"x\")\n",
    "plt.ylabel(\"y\")\n",
    "plt.grid(True)\n",
    "plt.plot(t_etalon, y_etalon(t_etalon), label=\"Точное решение\")\n",
    "plt.plot(t_eul[0], t_eul[1], label=\"м. Эйлера\")\n",
    "plt.plot(t_run[0], t_run[1], label=\"м. Рунге-Кутта\")\n",
    "plt.plot(t_adam[0], t_adam[1], label=\"м. Адамса\")\n",
    "plt.legend()\n",
    "plt.show()"
   ]
  },
  {
   "cell_type": "code",
   "execution_count": 9,
   "metadata": {},
   "outputs": [
    {
     "name": "stdout",
     "output_type": "stream",
     "text": [
      "------------ Метод Эйлера ------------\n",
      "Значение в h1: 1.3377547335624311 и в h2: 1.3476409534376899\n",
      "Погрешность вычисленная методом Рунге-Ромберга: 0.01318162650034497\n",
      "Погрешность с точным значением: 0.009367147056885905\n",
      "\n",
      "------------ Метод Рунге-Кутта ------------\n",
      "Значение в h1: 1.3570048686194527 и в h2: 1.357007915852238\n",
      "Погрешность вычисленная методом Рунге-Ромберга: 3.25038163756138e-06\n",
      "Погрешность с точным значением: 1.8464233786374962e-07\n",
      "\n",
      "------------ Метод Адамса ------------\n",
      "Значение в h1: 1.357577858093548 и в h2: 1.3570796637483675\n",
      "Погрешность вычисленная методом Рунге-Ромберга: 0.0005314073015258695\n",
      "Погрешность с точным значением: 7.15632537917621e-05\n",
      "\n"
     ]
    }
   ],
   "source": [
    "for method, name in [(euler_method_system, \"Эйлера\"), \n",
    "                     (runge_kutta_method_system, \"Рунге-Кутта\"), \n",
    "                     (adams_method_system, \"Адамса\")]:\n",
    "    h2 = h/2\n",
    "    _, yh1, _ = method(f, y0, z0, x0, xn, h)\n",
    "    _, yh2, _ = method(f, y0, z0, x0, xn, h2)\n",
    "    print(f\"------------ Метод {name} ------------\")\n",
    "    print(f\"Значение в h1: {yh1[-1]} и в h2: {yh2[-1]}\")\n",
    "    print(f\"Погрешность вычисленная методом Рунге-Ромберга: \\\n",
    "{runge_romberg_error(h, yh1[-1], h2, yh2[-1], p=2 if 'Эйлера' in name else 4)}\")\n",
    "    print(f\"Погрешность с точным значением: {np.abs(yh2[-1] - y_etalon(xn))}\\n\")"
   ]
  },
  {
   "cell_type": "markdown",
   "metadata": {},
   "source": [
    "### Вывод 4.1\n",
    "Были реализованы методы Эйлера, Рунге-Кутта и Адама 4го порядка. Решено ОДУ и отображено на графике в различных методах. Произведена оценка погрешности методом Рунге-Ромберга и с точным значением из условия. Самым точным оказался метод Рунге-Кутта."
   ]
  },
  {
   "cell_type": "markdown",
   "metadata": {},
   "source": [
    "## Задание 4.2\n",
    "Реализовать метод стрельбы и конечно-разностный метод решения краевой задачи для ОДУ в виде программ. С использованием разработанного программного обеспечения решить краевую задачу для обыкновенного дифференциального уравнения 2-го порядка на указанном отрезке. Оценить погрешность численного решения с использованием метода Рунге – Ромберга и путем сравнения с точным решением.\n",
    "\n",
    "Задана система уравнений: \n",
    "$$\\begin{cases}\n",
    "\\begin{aligned}\n",
    "x(x+1)y'' + (x+2)y' - y &= x+\\frac{1}{x},\\\\\n",
    "y'(1) &= \\frac{3}{2},\\\\\n",
    "4y'(2) + y(2) &= 13+4\\ln{2}.\n",
    "\\end{aligned}\n",
    "\\end{cases}$$\n",
    "\n",
    "Задано точное решение: \n",
    "$$y(x) = x + \\frac{7}{2} + \\frac{1}{x} + (\\frac{x}{2}+1)\\cdot \\ln{|x|}$$"
   ]
  },
  {
   "cell_type": "markdown",
   "metadata": {},
   "source": [
    "1. Реализуем метод стрельбы"
   ]
  },
  {
   "cell_type": "code",
   "execution_count": 10,
   "metadata": {},
   "outputs": [],
   "source": [
    "def shooting_method(F: Callable[[float,float,float], tuple[float, float]], \n",
    "                    a: float, \n",
    "                    b: float, \n",
    "                    h: float, \n",
    "                    y0: float,\n",
    "                    y1: float,\n",
    "                    e=1e-10\n",
    ") -> np.ndarray[float]:\n",
    "    \"\"\"\n",
    "    ## Метод стрельбы для решения краевой задачи\n",
    "\n",
    "    ### Args:\n",
    "        F (function): Исходное уравнение\n",
    "        a (float): Левая граница решения\n",
    "        b (float): Правая граница решения\n",
    "        h (float): Шаг\n",
    "        y0 (float): Условие в левой границе\n",
    "        y1 (float): Условие в правой границе\n",
    "        e (_type_, optional): Точность сходимости. Defaults to 1e-10.\n",
    "\n",
    "    ### Returns:\n",
    "        np.ndarray[float]: Найденые значения\n",
    "    \"\"\"\n",
    "\n",
    "    nu1 = 1.0\n",
    "    nu2 = 0.8\n",
    "    f1 = runge_kutta_method_system(F, y0, nu1, a, b, h)[1][-1] - y1\n",
    "    f2 = runge_kutta_method_system(F, y0, nu2, a, b, h)[1][-1] - y1\n",
    "\n",
    "    while(abs(f2) > e):\n",
    "        nu1, nu2 = nu2, nu2 - f2 * (nu2 - nu1) / (f2 - f1)\n",
    "        f1, f2 = f2, runge_kutta_method_system(F, y0, nu2, a, b, h)[1][-1] - y1\n",
    "    return runge_kutta_method_system(F, y0, nu2, a, b, h)[1]"
   ]
  },
  {
   "cell_type": "markdown",
   "metadata": {},
   "source": [
    "2. Метод конченых разностей"
   ]
  },
  {
   "cell_type": "code",
   "execution_count": 11,
   "metadata": {},
   "outputs": [],
   "source": [
    "def finite_difference_method(p: Callable[[float], float],\n",
    "                             q: Callable[[float], float],\n",
    "                             a: float, \n",
    "                             b: float, \n",
    "                             h: float, \n",
    "                             y0: float,\n",
    "                             y1: float\n",
    ") -> np.ndarray[float]:\n",
    "    \"\"\"\n",
    "    ## Конечно-разностный метод решения краевой задачи\n",
    "\n",
    "    ### Args:\n",
    "        p (Callable[[float], float]): коэффициен p выраженный через x\n",
    "        q (Callable[[float], float]): коэффициен q выраженный через x\n",
    "        a (float): Левая граница решения\n",
    "        b (float): Правая граница решения\n",
    "        h (float): Шаг\n",
    "        y0 (float): Условие в левой границе\n",
    "        y1 (float): Условие в правой границе\n",
    "\n",
    "    ### Returns:\n",
    "        np.ndarray[float]: Найденые значения\n",
    "    \"\"\"\n",
    "\n",
    "    x = np.arange(a, b + h, h)\n",
    "    N = int((b - a) / h)\n",
    "    A = []\n",
    "    B = []\n",
    "    C = []\n",
    "    D = []\n",
    "    A.append(0)\n",
    "    B.append(-2 + h * h * q(x[1]))\n",
    "    C.append(1 + p(x[1]) * h / 2)\n",
    "    D.append(-(1 - (p(x[1]) * h) / 2) * y0)\n",
    "    for i in range(2, N):\n",
    "        A.append(1 - p(x[i]) * h / 2)\n",
    "        B.append(-2 + h * h * q(x[i]))\n",
    "        C.append(1 + p(x[i]) * h / 2)\n",
    "        D.append(0)\n",
    "    A.append(1 - p(x[N - 2]) * h / 2)\n",
    "    B.append(-2 + h * h * q(x[N - 2]))\n",
    "    C.append(0)\n",
    "    D.append(-(1 + (p(x[N - 2]) * h) / 2) * y1)\n",
    "\n",
    "    P = np.zeros(N)\n",
    "    Q = np.zeros(N)\n",
    "    P[0] = (-C[0] / B[0])\n",
    "    Q[0] = (D[0] / B[0])\n",
    "    for i in range(1, N):\n",
    "        P[i] = (-C[i] / (B[i] + A[i] * P[i - 1]))\n",
    "        Q[i] = ((D[i] - A[i] * Q[i - 1]) / (B[i] + A[i] * P[i - 1]))\n",
    "    ans = np.zeros(N)\n",
    "    ans[N - 1] = Q[N - 1]\n",
    "    for i in range(N - 2, 0, -1):\n",
    "        ans[i] = P[i] * ans[i + 1] + Q[i]\n",
    "    ans[0] = y0\n",
    "    ans = np.append(ans, y1)\n",
    "    return ans"
   ]
  },
  {
   "cell_type": "markdown",
   "metadata": {},
   "source": [
    "Так же реализуем метод Рунге-Ромберга"
   ]
  },
  {
   "cell_type": "code",
   "execution_count": 12,
   "metadata": {},
   "outputs": [],
   "source": [
    "def Runge_Romberg_method(h1, y1, h2, y2, p):\n",
    "    res = np.zeros(len(y1))\n",
    "    for i in range(len(y1)):\n",
    "        res[i] = (y1[i]-y2[i*2]) / ((h2/h1)**p -1 )\n",
    "    return res"
   ]
  },
  {
   "cell_type": "markdown",
   "metadata": {},
   "source": [
    "3. Реализуем функции, заданные вариантом"
   ]
  },
  {
   "cell_type": "code",
   "execution_count": 13,
   "metadata": {},
   "outputs": [],
   "source": [
    "def ode_system(x, y, z):\n",
    "    dydx = z\n",
    "    dzdx = (x + 1/x + y - (x+2)*z)/(x*(x+1))\n",
    "    return dydx, dzdx\n",
    "\n",
    "def accurate_function(x):\n",
    "    return x + 7/2 + 1/x + (x/2 + 1)*(np.log2(np.abs(x)))\n",
    "\n",
    "def p(x):\n",
    "    return (x+2)/(x*(x+1))\n",
    "\n",
    "def q(x):\n",
    "    return (-1)/(x*(x+1))"
   ]
  },
  {
   "cell_type": "markdown",
   "metadata": {},
   "source": [
    "4. Сделаем расчеты для варианта"
   ]
  },
  {
   "cell_type": "code",
   "execution_count": 14,
   "metadata": {},
   "outputs": [],
   "source": [
    "a = 1\n",
    "b = 2\n",
    "h = 0.1\n",
    "e = 0.001\n",
    "y0 = accurate_function(a)\n",
    "y1 = accurate_function(b)"
   ]
  },
  {
   "cell_type": "code",
   "execution_count": 15,
   "metadata": {},
   "outputs": [],
   "source": [
    "shooting_sol_h1 = shooting_method(ode_system, a, b, h, y0, y1)\n",
    "finite_difference_sol_h1 = finite_difference_method(p, q, a, b, h, y0, y1)\n",
    "\n",
    "shooting_sol_h2 = shooting_method(ode_system, a, b, h/2, y0, y1)\n",
    "finite_difference_sol_h2 = finite_difference_method(p, q, a, b, h/2, y0, y1)"
   ]
  },
  {
   "cell_type": "code",
   "execution_count": 16,
   "metadata": {},
   "outputs": [
    {
     "name": "stdout",
     "output_type": "stream",
     "text": [
      "                       X:  1.0 1.1 1.2 1.3 1.4 1.5 1.6 1.7 1.8 1.9 2.0\n",
      "       Точное значение Y:  5.5 5.722 5.954 6.194 6.44 6.69 6.946 7.204 7.467 7.732 8.0\n",
      "          Метод стрельбы:  5.5 5.748 5.997 6.246 6.495 6.744 6.994 7.245 7.496 7.748 8.0\n",
      "Конечно-разностный метод:  5.5 5.993 6.229 6.46 6.688 6.912 7.133 7.352 7.569 7.785 8.0 \n",
      "\n",
      "---------- Погрешность м. Рунге-Ромберга  ----------\n",
      "          Метод стрельбы:  -0.0 -4.9987826855613095e-08 -6.047658492510284e-08 -5.6436569669434295e-08 -4.7618575157078645e-08 -3.783144298571036e-08 -2.8491423146685218e-08 -2.004224673631446e-08 -1.2540729699139775e-08 -5.901747120636476e-09 -2.2737367544323207e-14\n",
      "Конечно-разностный метод:  -0.0 -0.1043161561023112 -0.08746629745074017 -0.07265692065411997 -0.05942847064623891 -0.04744874113183168 -0.03647186437681474 -0.026312122027265634 -0.016826704133114843 -0.007904053351317468 -0.0 \n",
      "\n",
      "---------- Погрешность от точного значения ----------\n",
      "          Метод стрельбы:  0.0 0.026 0.043 0.052 0.055 0.054 0.049 0.041 0.029 0.016 0.0\n",
      "Конечно-разностный метод:  0.0 0.271 0.275 0.267 0.248 0.221 0.187 0.148 0.103 0.053 0.0\n"
     ]
    }
   ],
   "source": [
    "x = np.arange(a, b + h, h)\n",
    "y = accurate_function(x)\n",
    "\n",
    "print(\"                       X: \", *np.around(x, 3))\n",
    "print(\"       Точное значение Y: \", *np.around(y, 3))\n",
    "print(\"          Метод стрельбы: \", *np.around(shooting_sol_h1, 3))\n",
    "print(\"Конечно-разностный метод: \", \n",
    "      *np.around(finite_difference_sol_h1, 3), \"\\n\")\n",
    "\n",
    "print(\"---------- Погрешность м. Рунге-Ромберга  ----------\")\n",
    "print(\"          Метод стрельбы: \", \n",
    "      *Runge_Romberg_method(h, shooting_sol_h1, h/2, shooting_sol_h2, 4))\n",
    "print(\"Конечно-разностный метод: \", \n",
    "      *Runge_Romberg_method(h, finite_difference_sol_h1, \n",
    "                            h/2, finite_difference_sol_h2, 4), \"\\n\")\n",
    "\n",
    "print(\"---------- Погрешность от точного значения ----------\")\n",
    "print(\"          Метод стрельбы: \", \n",
    "      *np.around(np.abs(shooting_sol_h1 - y), 3))\n",
    "print(\"Конечно-разностный метод: \", \n",
    "      *np.around(np.abs(finite_difference_sol_h1 - y), 3))\n"
   ]
  },
  {
   "cell_type": "markdown",
   "metadata": {},
   "source": [
    "5. Построим графики"
   ]
  },
  {
   "cell_type": "code",
   "execution_count": 17,
   "metadata": {},
   "outputs": [
    {
     "data": {
      "image/png": "[encoded data removed]",
      "text/plain": [
       "<Figure size 640x480 with 1 Axes>"
      ]
     },
     "metadata": {},
     "output_type": "display_data"
    }
   ],
   "source": [
    "t = np.linspace(1, 2, 1000)\n",
    "plt.grid(True)\n",
    "plt.xlabel(\"x\")\n",
    "plt.ylabel(\"y\")\n",
    "plt.plot(t, accurate_function(t), label=\"Эталонное решение\")\n",
    "plt.plot(np.linspace(1, 2, len(shooting_sol_h2)), \n",
    "         shooting_sol_h2, label=\"Метод стрельбы\")\n",
    "plt.plot(np.linspace(1, 2, len(finite_difference_sol_h2)), \n",
    "         finite_difference_sol_h2, label=\"Метод конечных разностей\")\n",
    "plt.legend()\n",
    "plt.show()"
   ]
  },
  {
   "cell_type": "markdown",
   "metadata": {},
   "source": [
    "### Вывод 4.2\n",
    "Реализованы методы стрельбы и конечно-разностный метод для решения краевой задачи."
   ]
  }
 ],
 "metadata": {
  "kernelspec": {
   "display_name": "Python 3 (ipykernel)",
   "language": "python",
   "name": "python3"
  },
  "language_info": {
   "codemirror_mode": {
    "name": "ipython",
    "version": 3
   },
   "file_extension": ".py",
   "mimetype": "text/x-python",
   "name": "python",
   "nbconvert_exporter": "python",
   "pygments_lexer": "ipython3",
   "version": "3.11.8"
  }
 },
 "nbformat": 4,
 "nbformat_minor": 4
}

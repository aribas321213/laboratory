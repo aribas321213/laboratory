{
 "cells": [
  {
   "cell_type": "markdown",
   "metadata": {},
   "source": [
    "# Курсовая работа по дисциплине \"Случайные процессы\"\n",
    "\n",
    "**Выполнил:** Титеев Р.М.\n",
    "\n",
    "**Группа:** М8О-305Б-21\n",
    "\n",
    "**Вариант:** 26"
   ]
  },
  {
   "cell_type": "markdown",
   "metadata": {},
   "source": [
    "## Задание\n",
    "Сигнал, моделируемый стационарным центрированным гауссовским случайным процессом $\\xi(t)$ c ковариационной функцией $R(t)$, подается на вход некоторому линейному стационарному преобразованию. СФ $\\varepsilon(t)$ задает шум в системе. Выходной сигнал это $\\eta(t)$. СФ $\\xi(t)$, $k(t)$ и $\\varepsilon(t)$ независимые и центрированные. Входной и выходной сигналы связаны уравнением:\n",
    "$$\\frac{d\\eta(t)}{dt} + 4 = k(t) \\cdot \\xi(t) + \\varepsilon(t)$$\n",
    "\n",
    "Входной сигнал $\\xi(t)$ имеет ковариационную функцию\n",
    "$$R(\\tau) = 2e^{-3|\\tau|}$$\n",
    "\n",
    "Процесс $k(t)$ описывается следующим образом: $k(t) = w(t+5) - w(t)$, где $w(t)$ - стандартный винеровский процесс.\n",
    "\n",
    "Шум в системе $\\varepsilon(t)$: \n",
    "\\begin{equation*}\n",
    "S_{\\varepsilon}(\\lambda) = \n",
    " \\begin{cases}\n",
    "   1, &\\text{|$\\lambda$| < 1}\\\\\n",
    "   0, &\\text{в пр. сл.}\n",
    " \\end{cases}\n",
    " = \\theta(1 - |\\lambda|)\n",
    "\\end{equation*}\n",
    "\n",
    "\n",
    "Для выходного сигнала $\\eta(t)$ найдите:\n",
    "1. спектральную плотность;\n",
    "2. ковариационную функцию;\n",
    "3. дисперсию.\n",
    "\n",
    "Докажите, что правая часть системы (1) представляет собой стацинарный процесс. Также постройте графики, найденных характеристик."
   ]
  },
  {
   "cell_type": "markdown",
   "metadata": {},
   "source": [
    "## Решение"
   ]
  },
  {
   "cell_type": "code",
   "execution_count": 1,
   "metadata": {},
   "outputs": [],
   "source": [
    "import numpy as np\n",
    "import matplotlib.pyplot as plt"
   ]
  },
  {
   "cell_type": "markdown",
   "metadata": {},
   "source": [
    "### 1. Спектральная плотность $\\eta(t)$"
   ]
  },
  {
   "cell_type": "markdown",
   "metadata": {},
   "source": [
    "Для нахождения спектральной плотности $\\eta(t)$ воспользуемся формулой:\n",
    "\n",
    "$ s_{\\eta}(\\lambda) = |H(\\lambda)|^2 \\cdot s_{r}(\\lambda)$,\\\n",
    "где $|H(\\lambda)|$ - спектральная характеристика, $s_{r}(\\lambda)$ - спектральная плотность линейного преобразования входного процесса\n",
    "\n",
    "Процесс $r(t)$ опишем как: \\\n",
    "$r(t) = k(t) \\cdot \\xi(t) + \\varepsilon(t)$"
   ]
  },
  {
   "cell_type": "markdown",
   "metadata": {},
   "source": [
    "#### 1.1 Ковариационная функция $k(t) = w(t+5) - w(t)$"
   ]
  },
  {
   "cell_type": "markdown",
   "metadata": {},
   "source": [
    "$$R_{k} = Cov(w(t + 5) - w(t), w(s + 5) - w(s)) = Cov(w(t+5), w(s+5)-w(s)) - Cov(w(t), w(s+5)-w(s)) = $$\n",
    "$$Cov(w(t + 5), w(s + 5)) - Cov(w(t+5), w(s)) - Cov(w(t), w(s+5)) + Cov(w(t), w(s)) = $$\n",
    "$$= \\min(t+5, s+5) - \\min(t+5, s) - \\min(t, s+5) + \\min(s, t)$$"
   ]
  },
  {
   "cell_type": "markdown",
   "metadata": {},
   "source": [
    "Рассмотрим 4 случая:\n",
    "1. $t < s-5 \\Rightarrow t + 5 - t - 5 - t + t = 0 \\Rightarrow R_{k} = 0$\n",
    "2. $s-5 \\le t < s \\Rightarrow t + 5 - s - t + t = 0 \\Rightarrow R_{k} = t - s + 5$\n",
    "1. $s \\le t < s+5 \\Rightarrow s + 5 - s - t + s = 0 \\Rightarrow R_{k} = s - t + 5$\n",
    "1. $s+5 \\le t \\Rightarrow s + 5 - s - s - 5 + s = 0 \\Rightarrow R_{k} = 0$\n",
    "\n",
    "Введем замену $\\tau = t - s$, тогда:\n",
    "\\begin{equation*}\n",
    "R_k(\\tau) = \n",
    " \\begin{cases}\n",
    "   5 - |\\tau|, &|\\tau| < 5\\\\\n",
    "   0, &\\text{в пр. сл.}\n",
    " \\end{cases}\n",
    " = (5 - |\\tau|)\\theta(5 - |\\tau|)\n",
    "\\end{equation*} "
   ]
  },
  {
   "cell_type": "markdown",
   "metadata": {},
   "source": [
    "#### 1.2 Ковариационная функция шума $\\varepsilon(t)$: "
   ]
  },
  {
   "cell_type": "markdown",
   "metadata": {},
   "source": [
    "$R_{\\varepsilon}(\\tau) = \\int_{-\\infty}^{+\\infty} \\theta(1-|\\lambda|)\\; e^{i\\lambda \\tau}\\; d\\lambda = \\int_{-1}^{1} e^{i\\lambda \\tau}\\; d\\lambda = \\frac{e^{i \\tau} - e^{-i \\tau}}{i \\tau} = \\frac{\\sin(\\tau)}{\\tau}$"
   ]
  },
  {
   "cell_type": "markdown",
   "metadata": {},
   "source": [
    "#### 1.3 Ковариационная функция $r(t) = k(t) \\cdot \\xi(t) + \\varepsilon(t)$"
   ]
  },
  {
   "cell_type": "markdown",
   "metadata": {},
   "source": [
    "$$R_r = Cov(r(t),r(s)) = M[(r(t)-M[r(t)])\\cdot(r(s)-M[r(s)])]=$$\n",
    "$$=M[(k(t) \\xi(t) + \\varepsilon(t) - M[k(t) \\xi(t) + \\varepsilon(t)]) \\cdot (k(s) \\xi(s) + \\varepsilon(s) - M[k(s) \\xi(s) + \\varepsilon(s)])]$$\n",
    "\n",
    "В силу независимости процессов получаем:\n",
    "$$R_r = M[(k(t) \\xi(t) + \\varepsilon(t) - M[k(t)] M[\\xi(t)] - M[\\varepsilon(t)]) \\cdot (k(s) \\xi(s) + \\varepsilon(s) - M[k(s)] M[\\xi(s)] - M[\\varepsilon(s)])]$$"
   ]
  },
  {
   "cell_type": "markdown",
   "metadata": {},
   "source": [
    "Рассмотрим $M[k(t)]$ и $M[\\varepsilon(t)]$:\n",
    "\n",
    "$M[k(t)] = M[w(t+5) - w(t)] = M[w(t+5)] - M[w(t)] = 0$\n",
    "\n",
    "$M[\\varepsilon(t)]$ = 0 (т.к. она центрированная)\n",
    "\n",
    "Следовательно получаем:\n",
    "$$R_r = M[(k(t) \\xi(t) + \\varepsilon(t)) \\cdot (k(s) \\xi(s) + \\varepsilon(s))] = $$\n",
    "$$= M[k(t) \\xi(t) k(s) \\xi(s) + k(s) \\xi(s) \\varepsilon(t) + k(t) \\xi(t) \\varepsilon(s) + \\varepsilon(t) \\varepsilon(s)] = $$\n",
    "$$= M[k(t) k(s)] \\cdot M[\\xi(t) \\xi(s)] + M[\\varepsilon(t) \\varepsilon(s)]$$"
   ]
  },
  {
   "cell_type": "markdown",
   "metadata": {},
   "source": [
    "Т.к.\n",
    "1) $M[k(t)k(s)] = Cov(k(t), k(s)) = R_k(\\tau)$\n",
    "2) $M[\\xi(t)\\xi(s)] = Cov(\\xi(t), \\xi(s)) = R_{\\xi}(\\tau) = R(\\tau)$\n",
    "3) $M[\\varepsilon(t)\\varepsilon(s)] = Cov(\\varepsilon(t), \\varepsilon(s)) = R_{\\varepsilon}(\\tau)$\n",
    "\n",
    "Получаем следующее выражение:\n",
    "$$R_r(\\tau) = R_k(\\tau)R(\\tau) + R_{\\varepsilon}(\\tau)$$\n",
    "\n",
    "Таким образом, подставляя найденные ранее ковариационные функции получаем:\n",
    "$$R_r(\\tau) = 2e^{-3|\\tau|}(5 - |\\tau|)\\theta(5 - |\\tau|) + \\frac{\\sin(\\tau)}{\\tau}$$"
   ]
  },
  {
   "cell_type": "markdown",
   "metadata": {},
   "source": [
    "#### 1.4 Спектральная плотность процесса $r(t)$"
   ]
  },
  {
   "cell_type": "markdown",
   "metadata": {},
   "source": [
    "Для поиска спектральной плотности воспользуемся преобразованием Фурье ковариационной функции:\n",
    "$$s_{r}(\\lambda) = \\frac{1}{2\\pi} \\int_{-\\infty}^{\\infty} R_r(\\tau) \\cdot e^{-i\\tau \\lambda}\\; d\\tau = \n",
    "\\frac{1}{2\\pi} \\int_{-\\infty}^{\\infty} (2e^{-3|\\tau|}(5 - |\\tau|)\\theta(5 - |\\tau|) + \\frac{\\sin(\\tau)}{\\tau}) \\cdot e^{-i\\tau \\lambda}\\; d\\tau = $$\n",
    "\n",
    "$$ \\frac{1}{2\\pi} \\left( 2\\int_{-5}^{5} e^{-3|\\tau|-i\\tau \\lambda}(5 - |\\tau|)\\; d\\tau + \n",
    "\\int_{-\\infty}^{\\infty} \\frac{\\sin(\\tau)}{\\tau}\\cdot e^{-i\\tau \\lambda}\\; d\\tau \\right)$$\n"
   ]
  },
  {
   "cell_type": "markdown",
   "metadata": {},
   "source": [
    "##### 1.4.1 Расчитаем первое слагаемое $F_1$\n",
    "$$ F_1 = \\int_{-5}^{5} 2e^{-3|\\tau|-i\\tau \\lambda}(5 - |\\tau|)\\; d\\tau = $$\n",
    "\n",
    "$$ = \\frac{5e^{-15-5i\\lambda}(e^{10i\\lambda}(-3 - i\\lambda) + 6e^{15+5i\\lambda} + i\\lambda - 3)}\n",
    "{\\lambda^2 + 9} - $$\n",
    "$$ - \\frac{e^{-15-5i\\lambda}(-2e^{15+5i\\lambda}(\\lambda^2 - 9) + e^{10i\\lambda}(16 - 5i\\lambda)(\\lambda - 3i)^2 + (16 + 5i\\lambda)(\\lambda + 3i)^2)}\n",
    "{(\\lambda^2 + 9)^2} = $$"
   ]
  },
  {
   "cell_type": "markdown",
   "metadata": {},
   "source": [
    "$$= \\frac{10(\\lambda\\sin(5\\lambda)-3\\cos(5\\lambda) + 3e^{15})}{e^{15}(\\lambda^2 + 9)}\n",
    "- \\frac{-2e^ {15}(t^ {2}-9)+2t(5t^ {2}+51)\\sin (5t)-4(7t^ {2}+72)\\cos (5t)}{e^{15}(\\lambda^2 + 9)^2} $$"
   ]
  },
  {
   "cell_type": "markdown",
   "metadata": {},
   "source": [
    "##### 1.4.2 Расчитаем второе слагаемое $F_2$"
   ]
  },
  {
   "cell_type": "markdown",
   "metadata": {},
   "source": [
    "$$F_2 = \\int_{-\\infty}^{\\infty} \\frac{\\sin(\\tau)}{\\tau}\\cdot e^{-i\\tau \\lambda}\\; d\\tau = \n",
    "\\sqrt{\\frac{\\pi}{8}}(sgn(1-\\lambda)+sgn(1 + \\lambda)) = \\sqrt{\\frac{\\pi}{2}} \\theta(1-|\\lambda|)$$"
   ]
  },
  {
   "cell_type": "markdown",
   "metadata": {},
   "source": [
    "Финальный результат спектральной плотности для правой части получается следующий:\n",
    "\n",
    "$$\n",
    "s_{r}(\\lambda) = \\frac{1}{2\\pi} \\left( \n",
    "\\frac{20(\\lambda\\sin(5\\lambda)-3\\cos(5\\lambda) + 3e^{15})}{e^{15}(\\lambda^2 + 9)}\n",
    "- \\frac{-4e^ {15}(t^ {2}-9)+2t(5t^ {2}+51)\\sin (5t)-4(7t^ {2}+72)\\cos (5t)}{e^{15}(\\lambda^2 + 9)^2} + \n",
    "\\sqrt{\\frac{\\pi}{2}} \\theta(1-|\\lambda|) \n",
    "\\right)\n",
    "$$"
   ]
  },
  {
   "cell_type": "markdown",
   "metadata": {},
   "source": [
    "#### 1.5 Спектральная плотность процесса $\\eta(t)$"
   ]
  },
  {
   "cell_type": "markdown",
   "metadata": {},
   "source": [
    "Для расчета спектрально плотности найдем частотную характеристику:\n",
    "\n",
    "1. $P(\\frac{d}{dt})\\eta(t) = Q(\\frac{d}{dt})r(t)$\n",
    "2. $P(z) = z, Q(z) = 1$\n",
    "3. $H(\\lambda) = \\frac{Q(i\\lambda)}{p(i\\lambda)} = \\frac{1}{i\\lambda}$\n",
    "\n",
    "Подставим найденные значения в формулу:\n",
    "\n",
    "$$s_{\\eta}(\\lambda) = |H(\\lambda)|^2 \\cdot s_{r}(\\lambda) = \\frac{1}{2\\pi\\lambda^2} \\left( \n",
    "\\frac{20(\\lambda\\sin(5\\lambda)-3\\cos(5\\lambda) + 3e^{15})}{e^{15}(\\lambda^2 + 9)}\n",
    "- \\frac{-4e^ {15}(\\lambda^ {2}-9)+2\\lambda(5\\lambda^ {2}+51)\\sin (5\\lambda)-4(7\\lambda^ {2}+72)\\cos (5\\lambda)}{e^{15}(\\lambda^2 + 9)^2} + \n",
    "\\sqrt{\\frac{\\pi}{2}} \\theta(1-|\\lambda|) \n",
    "\\right)$$"
   ]
  },
  {
   "cell_type": "markdown",
   "metadata": {},
   "source": [
    "### 2. Ковариационная функция $\\eta(t)$"
   ]
  },
  {
   "cell_type": "markdown",
   "metadata": {},
   "source": [
    "Для нахождения ковариацонной функции воспользумся обратным преобразованием Фурье:\n",
    "\n",
    "$$R_\\eta(\\tau) = \\int_{-\\infty}^{\\infty} s_\\eta(\\tau)\\ e^{i \\tau \\lambda} d\\lambda = $$\n",
    "$$ = \\frac{1}{2\\pi} \\int_{-\\infty}^{\\infty} \\left(\n",
    "\\frac{20(\\lambda\\sin(5\\lambda)-3\\cos(5\\lambda) + 3e^{15})}{e^{15}\\lambda^2(\\lambda^2 + 9)}\n",
    "- \\frac{-4e^ {15}(\\lambda^ {2}-9)+2\\lambda(5\\lambda^ {2}+51)\\sin (5\\lambda)-4(7\\lambda^ {2}+72)\\cos (5\\lambda)}{e^{15}\\lambda^2(\\lambda^2 + 9)^2} +\n",
    "\\sqrt{\\frac{\\pi}{2}} \\frac{\\theta(1-|\\lambda|)}{\\lambda^2} \n",
    "\\right)e^{i \\tau \\lambda}\n",
    "d\\lambda$$\n",
    "\n"
   ]
  },
  {
   "cell_type": "markdown",
   "metadata": {},
   "source": [
    "#### 2.1 Расчитаем первое слагаемое $n_1$"
   ]
  },
  {
   "cell_type": "markdown",
   "metadata": {},
   "source": [
    "$$\\frac{20}{2e^{15}\\pi} \\int_{-\\infty}^{\\infty} \n",
    "\\left( \n",
    "\\frac{\\lambda\\sin(5\\lambda)-3\\cos(5\\lambda) + 3e^{15}}{\\lambda^2(\\lambda^2 + 9)}\n",
    "\\right)e^{i \\tau \\lambda}\n",
    "d\\lambda$$"
   ]
  },
  {
   "cell_type": "markdown",
   "metadata": {},
   "source": [
    "Разобьем данный интеграл на слагаемые:"
   ]
  },
  {
   "cell_type": "markdown",
   "metadata": {},
   "source": [
    "$$\\frac{20}{2e^{15}\\pi} \\left ( \\int_{-\\infty}^{\\infty} \n",
    "\\frac{\\sin(5\\lambda)e^{i \\tau \\lambda}}{\\lambda(\\lambda^2 + 9)} \n",
    "d\\lambda -\n",
    "\\int_{-\\infty}^{\\infty} \n",
    "\\frac{3\\cos(5\\lambda)e^{i \\tau \\lambda}}{\\lambda^2(\\lambda^2 + 9)} \n",
    "d\\lambda + \n",
    "\\int_{-\\infty}^{\\infty} \n",
    "\\frac{3e^{15}e^{i \\tau \\lambda}}{\\lambda^2(\\lambda^2 + 9)} \n",
    "d\\lambda\n",
    "\\right )\n",
    "$$"
   ]
  },
  {
   "cell_type": "markdown",
   "metadata": {},
   "source": [
    "Поделив на слагаемые, получаем"
   ]
  },
  {
   "cell_type": "markdown",
   "metadata": {},
   "source": [
    "##### 2.1.1 Первое слагаемое:"
   ]
  },
  {
   "cell_type": "markdown",
   "metadata": {},
   "source": [
    "Интеграл $\\int_{-\\infty}^{\\infty} \\frac{\\sin(5\\lambda)e^{i \\tau \\lambda}}{\\lambda(\\lambda^2 + 9)} d\\lambda$ имеет следующие особные точки:\n",
    "1. $\\lambda_1 = 0$ (1-го порядка)\n",
    "2. $\\lambda_2 = -3i$ (1-го порядка)\n",
    "3. $\\lambda_3 = 3i$ (1-го порядка)\n",
    "\n",
    "$$\n",
    "Res_{\\lambda = \\lambda_1}\\left(\\frac{\\sin(5\\lambda)e^{i \\tau \\lambda}}{\\lambda(\\lambda^2 + 9)}\\right) = 0\n",
    "$$\n",
    "\n",
    "$$\n",
    "Res_{\\lambda = \\lambda_2}\\left(\\frac{\\sin(5\\lambda)e^{i \\tau \\lambda}}{\\lambda(\\lambda^2 + 9)}\\right) = \n",
    "-\\frac{i\\sh(15)e^{3\\tau}}{18}\n",
    "$$\n",
    "\n",
    "$$\n",
    "Res_{\\lambda = \\lambda_3}\\left(\\frac{\\sin(5\\lambda)e^{i \\tau \\lambda}}{\\lambda(\\lambda^2 + 9)}\\right) = \n",
    "\\frac{i\\sh(15)e^{-3\\tau}}{18}\n",
    "$$\n",
    "\n",
    "$$\\int_{-\\infty}^{\\infty} \\frac{\\sin(5\\lambda)e^{i \\tau \\lambda}}{\\lambda(\\lambda^2 + 9)} d\\lambda =\n",
    "2\\pi i\\left(\\frac{i\\sh(15)e^{-3\\tau}}{18} -\\frac{i\\sh(15)e^{3\\tau}}{18}\\right)$$"
   ]
  },
  {
   "cell_type": "markdown",
   "metadata": {},
   "source": [
    "##### 2.1.2 Второе слагаемое:"
   ]
  },
  {
   "cell_type": "markdown",
   "metadata": {},
   "source": [
    "Интеграл $\\int_{-\\infty}^{\\infty} \\frac{3\\cos(5\\lambda)e^{i \\tau \\lambda}}{\\lambda^2(\\lambda^2 + 9)} d\\lambda$ имеет следующие особные точки:\n",
    "1. $\\lambda_1 = 0$ (2-го порядка)\n",
    "2. $\\lambda_2 = -3i$ (1-го порядка)\n",
    "3. $\\lambda_3 = 3i$ (1-го порядка)\n",
    "\n",
    "$$\n",
    "Res_{\\lambda = \\lambda_1}\\left(\\frac{3\\cos(5\\lambda)e^{i \\tau \\lambda}}{\\lambda^2(\\lambda^2 + 9)}\\right) = \\frac{\\tau i}{3}\n",
    "$$\n",
    "\n",
    "$$\n",
    "Res_{\\lambda = \\lambda_2}\\left(\\frac{3\\cos(5\\lambda)e^{i \\tau \\lambda}}{\\lambda^2(\\lambda^2 + 9)}\\right) = \n",
    "-\\frac{i\\ch(15)e^{3\\tau}}{18}\n",
    "$$\n",
    "\n",
    "$$\n",
    "Res_{\\lambda = \\lambda_3}\\left(\\frac{3\\cos(5\\lambda)e^{i \\tau \\lambda}}{\\lambda^2(\\lambda^2 + 9)}\\right) = \n",
    "\\frac{i\\ch(15)e^{-3\\tau}}{18}\n",
    "$$\n",
    "\n",
    "$$\\int_{-\\infty}^{\\infty} \\frac{3\\cos(5\\lambda)e^{i \\tau \\lambda}}{\\lambda^2(\\lambda^2 + 9)} d\\lambda =\n",
    "2\\pi i\\left(\\frac{\\tau i}{3} + \\frac{i\\ch(15)e^{-3\\tau}}{18} -\\frac{i\\ch(15)e^{3\\tau}}{18}\\right)$$"
   ]
  },
  {
   "cell_type": "markdown",
   "metadata": {},
   "source": [
    "##### 2.1.2 Третье слагаемое:"
   ]
  },
  {
   "cell_type": "markdown",
   "metadata": {},
   "source": [
    "Интеграл $\\int_{-\\infty}^{\\infty} \\frac{3e^{15}e^{i \\tau \\lambda}}{\\lambda^2(\\lambda^2 + 9)} d\\lambda$ имеет следующие особные точки:\n",
    "1. $\\lambda_1 = 0$ (2-го порядка)\n",
    "2. $\\lambda_2 = -3i$ (1-го порядка)\n",
    "3. $\\lambda_3 = 3i$ (1-го порядка)\n",
    "\n",
    "$$\n",
    "Res_{\\lambda = \\lambda_1}\\left(\\frac{3e^{15}e^{i \\tau \\lambda}}{\\lambda^2(\\lambda^2 + 9)}\\right) = \\frac{e^{15} \\tau i}{3}\n",
    "$$\n",
    "\n",
    "$$\n",
    "Res_{\\lambda = \\lambda_2}\\left(\\frac{3e^{15}e^{i \\tau \\lambda}}{\\lambda^2(\\lambda^2 + 9)}\\right) = \n",
    "-\\frac{ie^{15-3\\tau}}{18}\n",
    "$$\n",
    "\n",
    "$$\n",
    "Res_{\\lambda = \\lambda_3}\\left(\\frac{3e^{15}e^{i \\tau \\lambda}}{\\lambda^2(\\lambda^2 + 9)}\\right) = \n",
    "\\frac{ie^{15+3\\tau}}{18}\n",
    "$$\n",
    "\n",
    "$$\\int_{-\\infty}^{\\infty} \\frac{3e^{15}e^{i \\tau \\lambda}}{\\lambda^2(\\lambda^2 + 9)} d\\lambda =\n",
    "2\\pi i\\left(\\frac{e^{15} \\tau i}{3} + \\frac{ie^{15+3\\tau}}{18} -\\frac{ie^{15-3\\tau}}{18}\\right)$$"
   ]
  },
  {
   "cell_type": "markdown",
   "metadata": {},
   "source": [
    "Из полученых вычислений следует:\n",
    "\n",
    "$$\\frac{20}{2e^{15}\\pi} \\int_{-\\infty}^{\\infty} \n",
    "\\left( \n",
    "\\frac{\\lambda\\sin(5\\lambda)-3\\cos(5\\lambda) + 3e^{15}}{\\lambda^2(\\lambda^2 + 9)}\n",
    "\\right)e^{i \\tau \\lambda}\n",
    "d\\lambda = $$\n",
    "\n",
    "$$\n",
    "= \\frac{20}{e^{15}} \\left( \\frac{-e^{3\\tau}}{18}e^{-15} + \\frac{e^{-3\\tau}}{18}e^{-15} + \\frac{\\tau}{3} - \\frac{\\tau e^{15}}{3}\n",
    "- \\frac{e^{15-3\\tau}}{18} + \\frac{e^{15+3\\tau}}{18}\n",
    "\\right)\n",
    "$$"
   ]
  },
  {
   "cell_type": "code",
   "execution_count": 2,
   "metadata": {},
   "outputs": [],
   "source": [
    "def n_1(x):\n",
    "    return (20/(np.exp(15)))*((-np.exp(-15+3*x))/18 + (np.exp(-15-3*x))/18 + x/3 - (x*np.exp(15))/3 - (np.exp(15-3*x))/18 + (np.exp(15-3*x))/18)\n"
   ]
  },
  {
   "cell_type": "markdown",
   "metadata": {},
   "source": [
    "#### 2.2 Расчитаем второе слагаемое $n_2$"
   ]
  },
  {
   "cell_type": "markdown",
   "metadata": {},
   "source": [
    "$$\\frac{20}{2e^{15}\\pi} \\int_{-\\infty}^{\\infty} \n",
    "\\left( \n",
    "\\frac{-4e^ {15}(\\lambda^ {2}-9)+2\\lambda(5\\lambda^ {2}+51)\\sin (5\\lambda)-4(7\\lambda^ {2}+72)\\cos (5\\lambda)}{e^{15}\\lambda^2(\\lambda^2 + 9)^2}\n",
    "\\right)e^{i \\tau \\lambda}\n",
    "d\\lambda$$"
   ]
  },
  {
   "cell_type": "markdown",
   "metadata": {},
   "source": [
    "Разобьем данный интеграл на слагаемые:"
   ]
  },
  {
   "cell_type": "markdown",
   "metadata": {},
   "source": [
    "$$\\frac{20}{2e^{15}\\pi}\\left( \n",
    "- \\int_{-\\infty}^{\\infty}\n",
    "\\frac{4(\\lambda^ {2}-9)e^{i \\tau \\lambda} }{\\lambda^2(\\lambda^2 + 9)^2} d\\lambda+ \n",
    "\\int_{-\\infty}^{\\infty}\n",
    "\\frac{2(5\\lambda^ {2}+51)\\sin (5\\lambda)e^{i \\tau \\lambda}}{e^{15}\\lambda(\\lambda^2 + 9)^2} d\\lambda -\n",
    "\\int_{-\\infty}^{\\infty} \n",
    "\\frac{4(7\\lambda^ {2}+72)\\cos (5\\lambda)e^{i \\tau \\lambda} }{e^{15}\\lambda^2(\\lambda^2 + 9)^2} d\\lambda\n",
    "\\right)\n",
    "$$"
   ]
  },
  {
   "cell_type": "markdown",
   "metadata": {},
   "source": [
    "##### 2.2.1 Первое слагаемое:"
   ]
  },
  {
   "cell_type": "markdown",
   "metadata": {},
   "source": [
    "Интеграл $\\int_{-\\infty}^{\\infty} \\frac{4(\\lambda^ {2}-9)e^{i \\tau \\lambda} }{\\lambda^2(\\lambda^2 + 9)^2} d\\lambda$ имеет следующие особные точки:\n",
    "1. $\\lambda_1 = 0$ (2-го порядка)\n",
    "2. $\\lambda_2 = -3i$ (2-го порядка)\n",
    "3. $\\lambda_3 = 3i$ (2-го порядка)\n",
    "\n",
    "$$\n",
    "Res_{\\lambda = \\lambda_1}\\left(\\frac{4(\\lambda^ {2}-9)e^{i \\tau \\lambda} }{\\lambda^2(\\lambda^2 + 9)^2}\\right) = \n",
    "\\frac{-4i\\tau e^{15}}{9}\n",
    "$$\n",
    "\n",
    "$$\n",
    "Res_{\\lambda = \\lambda_2}\\left(\\frac{4(\\lambda^ {2}-9)e^{i \\tau \\lambda} }{\\lambda^2(\\lambda^2 + 9)^2}\\right) = \n",
    "\\frac{10ie^{15-3\\tau}}{27}\n",
    "$$\n",
    "\n",
    "$$\n",
    "Res_{\\lambda = \\lambda_3}\\left(\\frac{4(\\lambda^ {2}-9)e^{i \\tau \\lambda} }{\\lambda^2(\\lambda^2 + 9)^2}\\right) = \n",
    "\\frac{2ie^{15+3\\tau}}{27}\n",
    "$$\n",
    "\n",
    "$$\\int_{-\\infty}^{\\infty} \\frac{4(\\lambda^ {2}-9)e^{i \\tau \\lambda} }{\\lambda^2(\\lambda^2 + 9)^2} d\\lambda =\n",
    "2\\pi i\\left(\\frac{-4i\\tau e^{15}}{9} + \\frac{10ie^{15-3\\tau}}{27} + \\frac{2ie^{15+3\\tau}}{27} \\right)$$"
   ]
  },
  {
   "cell_type": "markdown",
   "metadata": {},
   "source": [
    "##### 2.2.2 Второе слагаемое:"
   ]
  },
  {
   "cell_type": "markdown",
   "metadata": {},
   "source": [
    "Интеграл $\\int_{-\\infty}^{\\infty} \\frac{2(5\\lambda^ {2}+51)\\sin (5\\lambda)e^{i \\tau \\lambda}}{e^{15}\\lambda(\\lambda^2 + 9)^2} d\\lambda$ имеет следующие особные точки:\n",
    "1. $\\lambda_1 = 0$ (1-го порядка)\n",
    "2. $\\lambda_2 = -3i$ (2-го порядка)\n",
    "3. $\\lambda_3 = 3i$ (2-го порядка)\n",
    "\n",
    "$$\n",
    "Res_{\\lambda = \\lambda_1}\\left(\\frac{2(5\\lambda^ {2}+51)\\sin (5\\lambda)e^{i \\tau \\lambda}}{e^{15}\\lambda(\\lambda^2 + 9)^2}\\right) = \n",
    "0\n",
    "$$\n",
    "\n",
    "$$\n",
    "Res_{\\lambda = \\lambda_2}\\left(\\frac{2(5\\lambda^ {2}+51)\\sin (5\\lambda)e^{i \\tau \\lambda}}{e^{15}\\lambda(\\lambda^2 + 9)^2}\\right) = \n",
    "\\frac{-i(29 + e^{30})e^{-15+3\\tau}}{54}\n",
    "$$\n",
    "\n",
    "$$\n",
    "Res_{\\lambda = \\lambda_3}\\left(\\frac{2(5\\lambda^ {2}+51)\\sin (5\\lambda)e^{i \\tau \\lambda}}{e^{15}\\lambda(\\lambda^2 + 9)^2}\\right) = \n",
    "\\frac{-5i(e^{30}-7)e^{-15-3\\tau}}{54}\n",
    "$$\n",
    "\n",
    "$$\\int_{-\\infty}^{\\infty} \\frac{2(5\\lambda^ {2}+51)\\sin (5\\lambda)e^{i \\tau \\lambda}}{e^{15}\\lambda(\\lambda^2 + 9)^2} d\\lambda =\n",
    "2\\pi i\\left(\\frac{-i(29 + e^{30})e^{-15+3\\tau}}{54} + \\frac{-5i(e^{30}-7)e^{-15-3\\tau}}{54} \\right)$$"
   ]
  },
  {
   "cell_type": "markdown",
   "metadata": {},
   "source": [
    "##### 2.2.3 Третье слагаемое:"
   ]
  },
  {
   "cell_type": "markdown",
   "metadata": {},
   "source": [
    "Интеграл $\\int_{-\\infty}^{\\infty} \\frac{4(7\\lambda^ {2}+72)\\cos (5\\lambda)e^{i \\tau \\lambda} }{e^{15}\\lambda^2(\\lambda^2 + 9)^2} d\\lambda$ имеет следующие особные точки:\n",
    "1. $\\lambda_1 = 0$ (2-го порядка)\n",
    "2. $\\lambda_2 = -3i$ (2-го порядка)\n",
    "3. $\\lambda_3 = 3i$ (2-го порядка)\n",
    "\n",
    "$$\n",
    "Res_{\\lambda = \\lambda_1}\\left(\\frac{4(7\\lambda^ {2}+72)\\cos (5\\lambda)e^{i \\tau \\lambda} }{e^{15}\\lambda^2(\\lambda^2 + 9)^2}\\right) = \n",
    "\\frac{32i}{9}\n",
    "$$\n",
    "\n",
    "$$\n",
    "Res_{\\lambda = \\lambda_2}\\left(\\frac{4(7\\lambda^ {2}+72)\\cos (5\\lambda)e^{i \\tau \\lambda} }{e^{15}\\lambda^2(\\lambda^2 + 9)^2}\\right) = \n",
    "\\frac{i(e^{30} - 29)e^{-15+3\\tau}}{54}\n",
    "$$\n",
    "\n",
    "$$\n",
    "Res_{\\lambda = \\lambda_3}\\left(\\frac{4(7\\lambda^ {2}+72)\\cos (5\\lambda)e^{i \\tau \\lambda} }{e^{15}\\lambda^2(\\lambda^2 + 9)^2}\\right) = \n",
    "\\frac{5i(e^{30}+7)e^{-15-3\\tau}}{54}\n",
    "$$\n",
    "\n",
    "$$\\int_{-\\infty}^{\\infty} \\frac{4(7\\lambda^ {2}+72)\\cos (5\\lambda)e^{i \\tau \\lambda} }{e^{15}\\lambda^2(\\lambda^2 + 9)^2} d\\lambda =\n",
    "2\\pi i\\left(\\frac{32i}{9} + \\frac{i(e^{30} - 29)e^{-15+3\\tau}}{54} + \\frac{5i(e^{30}+7)e^{-15-3\\tau}}{54} \\right)$$"
   ]
  },
  {
   "cell_type": "markdown",
   "metadata": {},
   "source": [
    "Из полученых вычислений следует:\n",
    "\n",
    "$$\\frac{20}{2e^{15}\\pi} \\int_{-\\infty}^{\\infty} \n",
    "\\left( \n",
    "\\frac{-4e^ {15}(\\lambda^ {2}-9)+2\\lambda(5\\lambda^ {2}+51)\\sin (5\\lambda)-4(7\\lambda^ {2}+72)\\cos (5\\lambda)}{e^{15}\\lambda^2(\\lambda^2 + 9)^2}\n",
    "\\right)e^{i \\tau \\lambda}\n",
    "d\\lambda=$$ \n",
    "\n",
    "$$\n",
    "\\frac{1}{e^{15}} \\left( \\frac{-4e^{15}\\tau}{9} + \\frac{10e^{15-3\\tau}}{27} + \\frac{2e^{15+3\\tau}}{27} +\n",
    "\\frac{(29 + e^{30})e^{-15+3\\tau}}{54} + \\frac{5(e^{30}-7)e^{-15-3\\tau}}{54}+\n",
    "\\frac{32}{9} + \\frac{(e^{30} - 29)e^{-15+3\\tau}}{54} + \\frac{5(e^{30}+7)e^{-15-3\\tau}}{54}\n",
    "\\right)\n",
    "$$"
   ]
  },
  {
   "cell_type": "code",
   "execution_count": 3,
   "metadata": {},
   "outputs": [],
   "source": [
    "def n_2(x):\n",
    "    res = (1/np.exp(15))*(\n",
    "        ((-4*np.exp(15)*x)/9) + ((10*np.exp(15-3*x))/27) + ((2*np.exp(15+3*x))/27) + (((29 + np.exp(30))*np.exp(-15+3*x))/54) +\n",
    "         (((np.exp(30)-7)*np.exp(-15-3*x))/54) + 32/9 + (((-29 + np.exp(30))*np.exp(-15+3*x))/54) + (((np.exp(30)+7)*np.exp(-15-3*x))/54)\n",
    "    )\n",
    "    return res"
   ]
  },
  {
   "cell_type": "markdown",
   "metadata": {},
   "source": [
    "#### 2.2 Расчитаем третье слагаемое $n_3$"
   ]
  },
  {
   "cell_type": "markdown",
   "metadata": {},
   "source": [
    "$$\\int_{-\\infty}^{+\\infty}\\frac{\\theta(1-|\\lambda|)}{\\lambda^2}\\; e^{i\\lambda \\tau}\\; d\\lambda = \\int_{-1}^{1}\\frac{e^{i\\lambda \\tau}}{\\lambda^2}\\; d\\lambda$$"
   ]
  },
  {
   "cell_type": "markdown",
   "metadata": {},
   "source": [
    "Так как функция четная, можем преобразовать интеграл к виду:\n",
    "$$\\int_{-1}^{1}\\frac{cos(\\lambda \\tau)}{\\lambda^2}\\; d\\lambda = \\lim_{A\\to 0}\\left(\\int_{-1}^{-A}\\frac{cos(\\lambda \\tau)}{\\lambda^2}\\; d\\lambda + \\int_{A}^{1}\\frac{cos(\\lambda \\tau)}{\\lambda^2}\\; d\\lambda \\right)$$"
   ]
  },
  {
   "cell_type": "markdown",
   "metadata": {},
   "source": [
    "Несобственный интграл данного выражения равен:\n",
    "\n",
    "$$\\int \\frac{cos(\\lambda \\tau)}{\\lambda^2} d\\lambda= \\frac{\\tau\\lambda Si(\\tau\\lambda) - cos(\\tau\\lambda) }{\\lambda}$$"
   ]
  },
  {
   "cell_type": "markdown",
   "metadata": {},
   "source": [
    "При $A \\to 0$, $\\frac{\\tau\\lambda Si(\\tau\\lambda) - cos(\\tau\\lambda) }{\\lambda} \\to \\infty \\Rightarrow$ интеграл $\\int_{-1}^{1}\\frac{cos(\\lambda \\tau)}{\\lambda^2}\\; d\\lambda$ расходится $\\Rightarrow R_\\eta = n_1 + n_2 + n_3$ - расходится, так как расходится слагаемое $n_3$"
   ]
  },
  {
   "cell_type": "markdown",
   "metadata": {},
   "source": [
    "### 3. Дисперсия $\\eta(t)$"
   ]
  },
  {
   "cell_type": "markdown",
   "metadata": {},
   "source": [
    "$R_{\\eta}(\\tau)$ - расходится $\\Rightarrow$ нет возможности посчитать дисперсию"
   ]
  },
  {
   "cell_type": "markdown",
   "metadata": {},
   "source": [
    "### 4. Док-во стационарности"
   ]
  },
  {
   "cell_type": "markdown",
   "metadata": {},
   "source": [
    "1. $R_r(\\tau) = 2e^{-3|\\tau|}(5 - |\\tau|)\\theta(5 - |\\tau|) + \\frac{\\sin(\\tau)}{\\tau}$, $\\lim\\limits_{\\tau \\to 0} \\frac{\\sin(\\tau)}{\\tau} = 1 \\Rightarrow R_r(0) = 11 \\Rightarrow$\n",
    "Дисперсия правой части не равна нулю\n",
    "2. Ковариационная функция $R_r(\\tau)$ зависит только от разности $t$ и $s$\n",
    "3. Мат. Ожидание процесса равно нулю, т.к. процессы $k$ и $\\xi$ не зависимы и центрированы по условию\n",
    "\n",
    "Следовательно, т.к. выполняются все три пункта, то можем сделать вывод, что правая часть системы это стационарный процесс."
   ]
  },
  {
   "cell_type": "markdown",
   "metadata": {},
   "source": [
    "### 5. Отрисовка графиков"
   ]
  },
  {
   "cell_type": "code",
   "execution_count": 4,
   "metadata": {},
   "outputs": [],
   "source": [
    "def F_1(x):\n",
    "    res = (\n",
    "        (10*(x*np.sin(5*x) - 3*np.cos(5*x) + 3*np.exp(15)))/(np.exp(15)*(x**2 + 9)) -\n",
    "        (-2*np.exp(15)*(x**2-9) + 2*x*(5*x**2 + 51)*np.sin(5*x) - 4*(7*x**2 + 72)*np.cos(5*x))/(np.exp(15)*(x**2 + 9)**2)\n",
    "        )\n",
    "    return res\n",
    "\n",
    "def F_2(x):\n",
    "    return np.sqrt(np.pi/2)*np.heaviside(1-abs(x), 0.5)\n",
    "\n",
    "def s_r(x):\n",
    "    return (1/(2*np.pi))*(F_1(x) + F_2(x))\n"
   ]
  },
  {
   "cell_type": "code",
   "execution_count": 5,
   "metadata": {},
   "outputs": [
    {
     "data": {
      "image/png": "[encoded data removed]",
      "text/plain": [
       "<Figure size 640x480 with 1 Axes>"
      ]
     },
     "metadata": {},
     "output_type": "display_data"
    }
   ],
   "source": [
    "t = np.linspace(-45, 45, 1000)\n",
    "plt.plot(t, s_r(t))\n",
    "plt.xlabel('$\\lambda$')\n",
    "plt.ylabel('$s_r(\\lambda)$')\n",
    "plt.title('График спектральной плотности $s_r(\\lambda)$')\n",
    "plt.grid(True)\n",
    "plt.show()"
   ]
  },
  {
   "cell_type": "code",
   "execution_count": 6,
   "metadata": {},
   "outputs": [
    {
     "data": {
      "image/png": "[encoded data removed]",
      "text/plain": [
       "<Figure size 640x480 with 1 Axes>"
      ]
     },
     "metadata": {},
     "output_type": "display_data"
    }
   ],
   "source": [
    "t = np.linspace(-15, 15, 1000)\n",
    "plt.plot(t, 1/t**2*s_r(t))\n",
    "plt.xlabel('$\\lambda$')\n",
    "plt.ylabel('$s_r(\\lambda)$')\n",
    "plt.title('График спектральной плотности $s_\\eta(\\lambda)$')\n",
    "plt.grid(True)\n",
    "plt.show()"
   ]
  },
  {
   "cell_type": "code",
   "execution_count": 7,
   "metadata": {},
   "outputs": [
    {
     "data": {
      "image/png": "[encoded data removed]",
      "text/plain": [
       "<Figure size 640x480 with 1 Axes>"
      ]
     },
     "metadata": {},
     "output_type": "display_data"
    }
   ],
   "source": [
    "t = np.linspace(-5, 5, 1000)\n",
    "plt.plot(t, n_1(t)+n_2(t))\n",
    "plt.xlabel('$\\lambda$')\n",
    "plt.ylabel('$s_r(\\lambda)$')\n",
    "plt.title('График суммы 1-го и 2-го слагаемого ковариационной функции')\n",
    "plt.grid(True)\n",
    "plt.show()"
   ]
  }
 ],
 "metadata": {
  "kernelspec": {
   "display_name": ".main-venv",
   "language": "python",
   "name": "python3"
  },
  "language_info": {
   "codemirror_mode": {
    "name": "ipython",
    "version": 3
   },
   "file_extension": ".py",
   "mimetype": "text/x-python",
   "name": "python",
   "nbconvert_exporter": "python",
   "pygments_lexer": "ipython3",
   "version": "3.11.8"
  }
 },
 "nbformat": 4,
 "nbformat_minor": 2
}
